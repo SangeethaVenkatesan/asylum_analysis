{
 "cells": [
  {
   "cell_type": "code",
   "execution_count": 494,
   "id": "ec9e815c",
   "metadata": {},
   "outputs": [],
   "source": [
    "import pandas as pd\n",
    "import matplotlib.pyplot as plt\n",
    "import numpy as np"
   ]
  },
  {
   "cell_type": "markdown",
   "id": "45867a2f",
   "metadata": {},
   "source": [
    "# Asylum Seeker dataset for EDA, Classification, Regression and Cluster Analysis"
   ]
  },
  {
   "cell_type": "code",
   "execution_count": 495,
   "id": "4cf43e15",
   "metadata": {},
   "outputs": [
    {
     "name": "stderr",
     "output_type": "stream",
     "text": [
      "C:\\Users\\Sajiah Naqib\\anaconda3\\envs\\adm\\lib\\site-packages\\IPython\\core\\interactiveshell.py:3369: DtypeWarning: Columns (4,5,6,7,8,9,10,11,12,13) have mixed types.Specify dtype option on import or set low_memory=False.\n",
      "  exec(code_obj, self.user_global_ns, self.user_ns)\n"
     ]
    }
   ],
   "source": [
    "asylum_seekers = pd.read_csv('data/asylum_seekers.csv')"
   ]
  },
  {
   "cell_type": "code",
   "execution_count": 496,
   "id": "3a328837",
   "metadata": {},
   "outputs": [
    {
     "data": {
      "text/html": [
       "<div>\n",
       "<style scoped>\n",
       "    .dataframe tbody tr th:only-of-type {\n",
       "        vertical-align: middle;\n",
       "    }\n",
       "\n",
       "    .dataframe tbody tr th {\n",
       "        vertical-align: top;\n",
       "    }\n",
       "\n",
       "    .dataframe thead th {\n",
       "        text-align: right;\n",
       "    }\n",
       "</style>\n",
       "<table border=\"1\" class=\"dataframe\">\n",
       "  <thead>\n",
       "    <tr style=\"text-align: right;\">\n",
       "      <th></th>\n",
       "      <th>Year</th>\n",
       "      <th>Country / territory of asylum/residence</th>\n",
       "      <th>Origin</th>\n",
       "      <th>RSD procedure type / level</th>\n",
       "      <th>Tota pending start-year</th>\n",
       "      <th>of which UNHCR-assisted(start-year)</th>\n",
       "      <th>Applied during year</th>\n",
       "      <th>decisions_recognized</th>\n",
       "      <th>decisions_other</th>\n",
       "      <th>Rejected</th>\n",
       "      <th>Otherwise closed</th>\n",
       "      <th>Total decisions</th>\n",
       "      <th>Total pending end-year</th>\n",
       "      <th>of which UNHCR-assisted(end-year)</th>\n",
       "    </tr>\n",
       "  </thead>\n",
       "  <tbody>\n",
       "    <tr>\n",
       "      <th>0</th>\n",
       "      <td>2000</td>\n",
       "      <td>Zimbabwe</td>\n",
       "      <td>Afghanistan</td>\n",
       "      <td>G / FI</td>\n",
       "      <td>0</td>\n",
       "      <td>0</td>\n",
       "      <td>5</td>\n",
       "      <td>5</td>\n",
       "      <td>0</td>\n",
       "      <td>0</td>\n",
       "      <td>0</td>\n",
       "      <td>5.0</td>\n",
       "      <td>0</td>\n",
       "      <td>0</td>\n",
       "    </tr>\n",
       "    <tr>\n",
       "      <th>1</th>\n",
       "      <td>2000</td>\n",
       "      <td>South Africa</td>\n",
       "      <td>Afghanistan</td>\n",
       "      <td>G / FI</td>\n",
       "      <td>8</td>\n",
       "      <td>1</td>\n",
       "      <td>0</td>\n",
       "      <td>0</td>\n",
       "      <td>0</td>\n",
       "      <td>0</td>\n",
       "      <td>0</td>\n",
       "      <td>NaN</td>\n",
       "      <td>8</td>\n",
       "      <td>0</td>\n",
       "    </tr>\n",
       "    <tr>\n",
       "      <th>2</th>\n",
       "      <td>2000</td>\n",
       "      <td>Uzbekistan</td>\n",
       "      <td>Afghanistan</td>\n",
       "      <td>U / FI</td>\n",
       "      <td>265</td>\n",
       "      <td>265</td>\n",
       "      <td>2156</td>\n",
       "      <td>747</td>\n",
       "      <td>0</td>\n",
       "      <td>112</td>\n",
       "      <td>327</td>\n",
       "      <td>1186.0</td>\n",
       "      <td>1235</td>\n",
       "      <td>1235</td>\n",
       "    </tr>\n",
       "    <tr>\n",
       "      <th>3</th>\n",
       "      <td>2000</td>\n",
       "      <td>United States of America</td>\n",
       "      <td>Afghanistan</td>\n",
       "      <td>G / EO</td>\n",
       "      <td>196</td>\n",
       "      <td>0</td>\n",
       "      <td>225</td>\n",
       "      <td>151</td>\n",
       "      <td>0</td>\n",
       "      <td>31</td>\n",
       "      <td>68</td>\n",
       "      <td>250.0</td>\n",
       "      <td>171</td>\n",
       "      <td>0</td>\n",
       "    </tr>\n",
       "    <tr>\n",
       "      <th>4</th>\n",
       "      <td>2000</td>\n",
       "      <td>United States of America</td>\n",
       "      <td>Afghanistan</td>\n",
       "      <td>G / IN</td>\n",
       "      <td>193</td>\n",
       "      <td>0</td>\n",
       "      <td>218</td>\n",
       "      <td>182</td>\n",
       "      <td>0</td>\n",
       "      <td>51</td>\n",
       "      <td>40</td>\n",
       "      <td>273.0</td>\n",
       "      <td>150</td>\n",
       "      <td>0</td>\n",
       "    </tr>\n",
       "  </tbody>\n",
       "</table>\n",
       "</div>"
      ],
      "text/plain": [
       "   Year Country / territory of asylum/residence       Origin  \\\n",
       "0  2000                                Zimbabwe  Afghanistan   \n",
       "1  2000                            South Africa  Afghanistan   \n",
       "2  2000                              Uzbekistan  Afghanistan   \n",
       "3  2000                United States of America  Afghanistan   \n",
       "4  2000                United States of America  Afghanistan   \n",
       "\n",
       "  RSD procedure type / level Tota pending start-year  \\\n",
       "0                     G / FI                       0   \n",
       "1                     G / FI                       8   \n",
       "2                     U / FI                     265   \n",
       "3                     G / EO                     196   \n",
       "4                     G / IN                     193   \n",
       "\n",
       "  of which UNHCR-assisted(start-year) Applied during year  \\\n",
       "0                                   0                   5   \n",
       "1                                   1                   0   \n",
       "2                                 265                2156   \n",
       "3                                   0                 225   \n",
       "4                                   0                 218   \n",
       "\n",
       "  decisions_recognized decisions_other Rejected Otherwise closed  \\\n",
       "0                    5               0        0                0   \n",
       "1                    0               0        0                0   \n",
       "2                  747               0      112              327   \n",
       "3                  151               0       31               68   \n",
       "4                  182               0       51               40   \n",
       "\n",
       "  Total decisions Total pending end-year of which UNHCR-assisted(end-year)  \n",
       "0             5.0                      0                                 0  \n",
       "1             NaN                      8                                 0  \n",
       "2          1186.0                   1235                              1235  \n",
       "3           250.0                    171                                 0  \n",
       "4           273.0                    150                                 0  "
      ]
     },
     "execution_count": 496,
     "metadata": {},
     "output_type": "execute_result"
    }
   ],
   "source": [
    "asylum_seekers.head()"
   ]
  },
  {
   "cell_type": "markdown",
   "id": "4d6bf31c",
   "metadata": {},
   "source": [
    "# Preprocessing"
   ]
  },
  {
   "cell_type": "markdown",
   "id": "60a24e91",
   "metadata": {},
   "source": [
    "### 1. Renaming Columns"
   ]
  },
  {
   "cell_type": "code",
   "execution_count": 497,
   "id": "990a9beb",
   "metadata": {},
   "outputs": [],
   "source": [
    "asylum_seekers.columns = ['year', \n",
    "          'country_of_residence', \n",
    "          'country_of_origin', \n",
    "          'rsd_type', \n",
    "          'total_pending_at_year_start', \n",
    "          'total_pending_year_start_UNHCR_assisted', \n",
    "          'total_applied_during_year',\n",
    "          'decisions_recognized',\n",
    "          'decisions_other', \n",
    "          'total_rejected',\n",
    "          'decisions_closed',\n",
    "          'total_decisions',\n",
    "          'total_pending_at_year_end', \n",
    "          'total_pending_year_end_UNHCR_assisted']"
   ]
  },
  {
   "cell_type": "code",
   "execution_count": 498,
   "id": "fca990f5",
   "metadata": {},
   "outputs": [],
   "source": [
    "asylum_seekers = asylum_seekers.drop(['decisions_other', 'total_decisions'], axis = 1)"
   ]
  },
  {
   "cell_type": "code",
   "execution_count": 499,
   "id": "b758fd85",
   "metadata": {},
   "outputs": [
    {
     "name": "stdout",
     "output_type": "stream",
     "text": [
      "<class 'pandas.core.frame.DataFrame'>\n",
      "RangeIndex: 129720 entries, 0 to 129719\n",
      "Data columns (total 12 columns):\n",
      " #   Column                                   Non-Null Count   Dtype \n",
      "---  ------                                   --------------   ----- \n",
      " 0   year                                     129720 non-null  int64 \n",
      " 1   country_of_residence                     129720 non-null  object\n",
      " 2   country_of_origin                        129720 non-null  object\n",
      " 3   rsd_type                                 129719 non-null  object\n",
      " 4   total_pending_at_year_start              124578 non-null  object\n",
      " 5   total_pending_year_start_UNHCR_assisted  118962 non-null  object\n",
      " 6   total_applied_during_year                126222 non-null  object\n",
      " 7   decisions_recognized                     119886 non-null  object\n",
      " 8   total_rejected                           121615 non-null  object\n",
      " 9   decisions_closed                         120850 non-null  object\n",
      " 10  total_pending_at_year_end                125832 non-null  object\n",
      " 11  total_pending_year_end_UNHCR_assisted    121883 non-null  object\n",
      "dtypes: int64(1), object(11)\n",
      "memory usage: 11.9+ MB\n"
     ]
    }
   ],
   "source": [
    "asylum_seekers.info()"
   ]
  },
  {
   "cell_type": "markdown",
   "id": "79e885ad",
   "metadata": {},
   "source": [
    "### 2. Dealing with null values"
   ]
  },
  {
   "cell_type": "code",
   "execution_count": 500,
   "id": "ea9346f3",
   "metadata": {},
   "outputs": [],
   "source": [
    "# Replace all '*' with ''\n",
    "asylum_seekers = asylum_seekers.replace(['*'], [0]) "
   ]
  },
  {
   "cell_type": "code",
   "execution_count": 501,
   "id": "f4583c8c",
   "metadata": {},
   "outputs": [
    {
     "data": {
      "text/plain": [
       "year                                           0\n",
       "country_of_residence                           0\n",
       "country_of_origin                              0\n",
       "rsd_type                                       1\n",
       "total_pending_at_year_start                 5142\n",
       "total_pending_year_start_UNHCR_assisted    10758\n",
       "total_applied_during_year                   3498\n",
       "decisions_recognized                        9834\n",
       "total_rejected                              8105\n",
       "decisions_closed                            8870\n",
       "total_pending_at_year_end                   3888\n",
       "total_pending_year_end_UNHCR_assisted       7837\n",
       "dtype: int64"
      ]
     },
     "execution_count": 501,
     "metadata": {},
     "output_type": "execute_result"
    }
   ],
   "source": [
    "asylum_seekers.isna().sum()"
   ]
  },
  {
   "cell_type": "code",
   "execution_count": 502,
   "id": "3f24604d",
   "metadata": {},
   "outputs": [
    {
     "data": {
      "text/plain": [
       "0    G / FI\n",
       "dtype: object"
      ]
     },
     "execution_count": 502,
     "metadata": {},
     "output_type": "execute_result"
    }
   ],
   "source": [
    "mode_rsd = asylum_seekers['rsd_type'].mode()\n",
    "mode_rsd"
   ]
  },
  {
   "cell_type": "code",
   "execution_count": 503,
   "id": "63bbf02a",
   "metadata": {},
   "outputs": [],
   "source": [
    "# rsd : refugee status determination type\n",
    "asylum_seekers['rsd_type'] = asylum_seekers['rsd_type'].fillna(value = 'G / FI')"
   ]
  },
  {
   "cell_type": "code",
   "execution_count": 504,
   "id": "540515e6",
   "metadata": {},
   "outputs": [
    {
     "data": {
      "text/plain": [
       "array(['G / FI', 'U / FI', 'G / EO', 'G / IN', 'U / AR', 'G / AR',\n",
       "       'G / JR', 'G / FA', 'G / TR', 'G / BL', 'G / RA', 'G / NA',\n",
       "       'G / CA', 'U / FA', 'J / FI', 'G / fi', 'U / JR', 'G / ar',\n",
       "       'J / AR', 'U / RA', 'J / FA', 'G / SP', 'J / RA', 'G / TP',\n",
       "       'G / TA', 'U / NA'], dtype=object)"
      ]
     },
     "execution_count": 504,
     "metadata": {},
     "output_type": "execute_result"
    }
   ],
   "source": [
    "asylum_seekers['rsd_type'].unique()"
   ]
  },
  {
   "cell_type": "code",
   "execution_count": 506,
   "id": "bc100b3c",
   "metadata": {},
   "outputs": [],
   "source": [
    "def fill_na_0(column_name):\n",
    "    asylum_seekers[column_name] = asylum_seekers[column_name].fillna(value = 0)"
   ]
  },
  {
   "cell_type": "code",
   "execution_count": 507,
   "id": "3ed860be",
   "metadata": {},
   "outputs": [],
   "source": [
    "fill_na_0('total_pending_at_year_start')\n",
    "fill_na_0('total_pending_year_start_UNHCR_assisted')\n",
    "fill_na_0('total_pending_at_year_end')\n",
    "fill_na_0('total_pending_year_end_UNHCR_assisted')\n",
    "fill_na_0('total_applied_during_year')\n",
    "fill_na_0('decisions_recognized')\n",
    "fill_na_0('total_rejected')\n",
    "fill_na_0('decisions_closed')"
   ]
  },
  {
   "cell_type": "code",
   "execution_count": 508,
   "id": "6bf680b8",
   "metadata": {},
   "outputs": [
    {
     "data": {
      "text/plain": [
       "year                                       0\n",
       "country_of_residence                       0\n",
       "country_of_origin                          0\n",
       "rsd_type                                   0\n",
       "total_pending_at_year_start                0\n",
       "total_pending_year_start_UNHCR_assisted    0\n",
       "total_applied_during_year                  0\n",
       "decisions_recognized                       0\n",
       "total_rejected                             0\n",
       "decisions_closed                           0\n",
       "total_pending_at_year_end                  0\n",
       "total_pending_year_end_UNHCR_assisted      0\n",
       "dtype: int64"
      ]
     },
     "execution_count": 508,
     "metadata": {},
     "output_type": "execute_result"
    }
   ],
   "source": [
    "asylum_seekers.isna().sum()"
   ]
  },
  {
   "cell_type": "markdown",
   "id": "3848bd67",
   "metadata": {},
   "source": [
    "### 3. Changing data type and column values"
   ]
  },
  {
   "cell_type": "code",
   "execution_count": 509,
   "id": "bd05364d",
   "metadata": {},
   "outputs": [],
   "source": [
    "for col in ['total_pending_at_year_start', \\\n",
    "            'total_pending_year_start_UNHCR_assisted', \\\n",
    "            'total_applied_during_year', \\\n",
    "            'decisions_recognized', \\\n",
    "            'total_rejected', \\\n",
    "            'decisions_closed', \\\n",
    "            'total_pending_at_year_end', \\\n",
    "            'total_pending_year_end_UNHCR_assisted']:\n",
    "    asylum_seekers[col] = pd.to_numeric(asylum_seekers[col], errors='coerce')\n",
    "    asylum_seekers[col] = asylum_seekers[col].astype('float')"
   ]
  },
  {
   "cell_type": "code",
   "execution_count": 510,
   "id": "f599e6ce",
   "metadata": {},
   "outputs": [],
   "source": [
    "asylum_seekers['rsd_type'] = [[x[:1], x[4:]] for x in asylum_seekers['rsd_type']]"
   ]
  },
  {
   "cell_type": "code",
   "execution_count": 511,
   "id": "db6d474b",
   "metadata": {},
   "outputs": [],
   "source": [
    "def change_country_names(column_name):\n",
    "    asylum_seekers[column_name] = asylum_seekers[column_name].replace(['United States of America'],['USA'])\n",
    "    asylum_seekers[column_name] = asylum_seekers[column_name].replace(['Syrian Arab Rep.'],['Syria'])\n",
    "    asylum_seekers[column_name] = asylum_seekers[column_name].replace(['Serbia and Kosovo (S/RES/1244 (1999))'],['Serbia/Kosovo'])\n",
    "    asylum_seekers[column_name] = asylum_seekers[column_name].replace(['Venezuela (Bolivarian Republic of)'],['Venezuela'])\n",
    "    asylum_seekers[column_name] = asylum_seekers[column_name].replace(['Iran (Islamic Rep. of)'],['Iran'])\n",
    "    asylum_seekers[column_name] = asylum_seekers[column_name].replace(['The former Yugoslav Republic of Macedonia', 'The former Yugoslav Rep. of Macedonia'],['Macedonia', 'Macedonia'])\n",
    "    asylum_seekers[column_name] = asylum_seekers[column_name].replace(['United Arab Emirates'],['UAE'])\n",
    "    asylum_seekers[column_name] = asylum_seekers[column_name].replace(['Dem. Rep. of the Congo'],['Congo'])\n",
    "    asylum_seekers[column_name] = asylum_seekers[column_name].replace(['Bolivia (Plurinational State of)'],['Bolivia'])\n",
    "    asylum_seekers[column_name] = asylum_seekers[column_name].replace(['United Kingdom', 'United Kingdom of Great Britain and Northern Ireland'],['UK', 'UK'])\n",
    "    asylum_seekers[column_name] = asylum_seekers[column_name].replace(['Micronesia (Federated States of)'],['Micronesia'])\n",
    "\n",
    "change_country_names('country_of_residence')\n",
    "change_country_names('country_of_origin')"
   ]
  },
  {
   "cell_type": "markdown",
   "id": "152f21e6",
   "metadata": {},
   "source": [
    "### 4. Combining features and creating new features"
   ]
  },
  {
   "cell_type": "code",
   "execution_count": 512,
   "id": "68e115e5",
   "metadata": {},
   "outputs": [],
   "source": [
    "asylum_seekers['total_pending_year_start'] = asylum_seekers['total_pending_at_year_start'] + asylum_seekers['total_pending_year_start_UNHCR_assisted']\n",
    "asylum_seekers['total_pending_year_end'] = asylum_seekers['total_pending_at_year_end'] + asylum_seekers['total_pending_year_end_UNHCR_assisted']\n",
    "asylum_seekers = asylum_seekers.drop(['total_pending_at_year_start', 'total_pending_at_year_end',\n",
    "                                      'total_pending_year_end_UNHCR_assisted', 'total_pending_year_start_UNHCR_assisted'],\n",
    "                                    axis = 1)"
   ]
  },
  {
   "cell_type": "code",
   "execution_count": 513,
   "id": "a1a849e3",
   "metadata": {},
   "outputs": [],
   "source": [
    "# RSD: Refugee Status Determination:\n",
    "# Consists of: Authority / Stage of Procedure\n",
    "# Application Authority:\n",
    "# G -> Government\n",
    "# J -> Join\n",
    "# U -> UNHCR\n",
    "# Stage of Application\n",
    "# N -> New applications , NA - New Applications\n",
    "# FI - First instance decisions\n",
    "# AR - Administrative Review decisions\n",
    "# RA - Repeat/reopened applications\n",
    "# IN - US Citizenship and Immigration Services\n",
    "# EO - US Executive Office of Immigration Review\n",
    "# JR - Judicial Review\n",
    "# SP - Subsidiary protection\n",
    "# FA - First instance and appeal\n",
    "# TP - Temporary protection\n",
    "# TA - Temporary asylum. Used in the Russian Federation\n",
    "# BL – Backlog: Repeat applications processed during specific events to reduce the backlog in cases.\n",
    "# TR - Temporary leave to remain outside the asylum procedure\n",
    "# CA - Cantonal regulations in Switzerland"
   ]
  },
  {
   "cell_type": "code",
   "execution_count": 514,
   "id": "e17802cd",
   "metadata": {},
   "outputs": [],
   "source": [
    "asylum_seekers['application_authority'] = [x[0].upper() for x in asylum_seekers['rsd_type']]\n",
    "asylum_seekers['stage_of_application'] = [x[1].upper() for x in asylum_seekers['rsd_type']]\n",
    "asylum_seekers = asylum_seekers.drop(['rsd_type'], axis = 1)"
   ]
  },
  {
   "cell_type": "code",
   "execution_count": 515,
   "id": "ad8ee88e",
   "metadata": {},
   "outputs": [],
   "source": [
    "def check_rejected(x):\n",
    "    if x == 0:\n",
    "        return 'N'\n",
    "    else:\n",
    "        return 'Y'\n",
    "\n",
    "asylum_seekers['Rejected(Y/N)'] =  asylum_seekers['total_rejected'].apply(check_rejected)"
   ]
  },
  {
   "cell_type": "code",
   "execution_count": 516,
   "id": "0c591644",
   "metadata": {},
   "outputs": [
    {
     "data": {
      "text/html": [
       "<div>\n",
       "<style scoped>\n",
       "    .dataframe tbody tr th:only-of-type {\n",
       "        vertical-align: middle;\n",
       "    }\n",
       "\n",
       "    .dataframe tbody tr th {\n",
       "        vertical-align: top;\n",
       "    }\n",
       "\n",
       "    .dataframe thead th {\n",
       "        text-align: right;\n",
       "    }\n",
       "</style>\n",
       "<table border=\"1\" class=\"dataframe\">\n",
       "  <thead>\n",
       "    <tr style=\"text-align: right;\">\n",
       "      <th></th>\n",
       "      <th>year</th>\n",
       "      <th>country_of_residence</th>\n",
       "      <th>country_of_origin</th>\n",
       "      <th>total_applied_during_year</th>\n",
       "      <th>decisions_recognized</th>\n",
       "      <th>total_rejected</th>\n",
       "      <th>decisions_closed</th>\n",
       "      <th>total_pending_year_start</th>\n",
       "      <th>total_pending_year_end</th>\n",
       "      <th>application_authority</th>\n",
       "      <th>stage_of_application</th>\n",
       "      <th>Rejected(Y/N)</th>\n",
       "    </tr>\n",
       "  </thead>\n",
       "  <tbody>\n",
       "    <tr>\n",
       "      <th>0</th>\n",
       "      <td>2000</td>\n",
       "      <td>Zimbabwe</td>\n",
       "      <td>Afghanistan</td>\n",
       "      <td>5.0</td>\n",
       "      <td>5.0</td>\n",
       "      <td>0.0</td>\n",
       "      <td>0.0</td>\n",
       "      <td>0.0</td>\n",
       "      <td>0.0</td>\n",
       "      <td>G</td>\n",
       "      <td>FI</td>\n",
       "      <td>N</td>\n",
       "    </tr>\n",
       "    <tr>\n",
       "      <th>1</th>\n",
       "      <td>2000</td>\n",
       "      <td>South Africa</td>\n",
       "      <td>Afghanistan</td>\n",
       "      <td>0.0</td>\n",
       "      <td>0.0</td>\n",
       "      <td>0.0</td>\n",
       "      <td>0.0</td>\n",
       "      <td>9.0</td>\n",
       "      <td>8.0</td>\n",
       "      <td>G</td>\n",
       "      <td>FI</td>\n",
       "      <td>N</td>\n",
       "    </tr>\n",
       "    <tr>\n",
       "      <th>2</th>\n",
       "      <td>2000</td>\n",
       "      <td>Uzbekistan</td>\n",
       "      <td>Afghanistan</td>\n",
       "      <td>2156.0</td>\n",
       "      <td>747.0</td>\n",
       "      <td>112.0</td>\n",
       "      <td>327.0</td>\n",
       "      <td>530.0</td>\n",
       "      <td>2470.0</td>\n",
       "      <td>U</td>\n",
       "      <td>FI</td>\n",
       "      <td>Y</td>\n",
       "    </tr>\n",
       "    <tr>\n",
       "      <th>3</th>\n",
       "      <td>2000</td>\n",
       "      <td>USA</td>\n",
       "      <td>Afghanistan</td>\n",
       "      <td>225.0</td>\n",
       "      <td>151.0</td>\n",
       "      <td>31.0</td>\n",
       "      <td>68.0</td>\n",
       "      <td>196.0</td>\n",
       "      <td>171.0</td>\n",
       "      <td>G</td>\n",
       "      <td>EO</td>\n",
       "      <td>Y</td>\n",
       "    </tr>\n",
       "    <tr>\n",
       "      <th>4</th>\n",
       "      <td>2000</td>\n",
       "      <td>USA</td>\n",
       "      <td>Afghanistan</td>\n",
       "      <td>218.0</td>\n",
       "      <td>182.0</td>\n",
       "      <td>51.0</td>\n",
       "      <td>40.0</td>\n",
       "      <td>193.0</td>\n",
       "      <td>150.0</td>\n",
       "      <td>G</td>\n",
       "      <td>IN</td>\n",
       "      <td>Y</td>\n",
       "    </tr>\n",
       "  </tbody>\n",
       "</table>\n",
       "</div>"
      ],
      "text/plain": [
       "   year country_of_residence country_of_origin  total_applied_during_year  \\\n",
       "0  2000             Zimbabwe       Afghanistan                        5.0   \n",
       "1  2000         South Africa       Afghanistan                        0.0   \n",
       "2  2000           Uzbekistan       Afghanistan                     2156.0   \n",
       "3  2000                  USA       Afghanistan                      225.0   \n",
       "4  2000                  USA       Afghanistan                      218.0   \n",
       "\n",
       "   decisions_recognized  total_rejected  decisions_closed  \\\n",
       "0                   5.0             0.0               0.0   \n",
       "1                   0.0             0.0               0.0   \n",
       "2                 747.0           112.0             327.0   \n",
       "3                 151.0            31.0              68.0   \n",
       "4                 182.0            51.0              40.0   \n",
       "\n",
       "   total_pending_year_start  total_pending_year_end application_authority  \\\n",
       "0                       0.0                     0.0                     G   \n",
       "1                       9.0                     8.0                     G   \n",
       "2                     530.0                  2470.0                     U   \n",
       "3                     196.0                   171.0                     G   \n",
       "4                     193.0                   150.0                     G   \n",
       "\n",
       "  stage_of_application Rejected(Y/N)  \n",
       "0                   FI             N  \n",
       "1                   FI             N  \n",
       "2                   FI             Y  \n",
       "3                   EO             Y  \n",
       "4                   IN             Y  "
      ]
     },
     "execution_count": 516,
     "metadata": {},
     "output_type": "execute_result"
    }
   ],
   "source": [
    "asylum_seekers.head()"
   ]
  },
  {
   "cell_type": "markdown",
   "id": "b2181872",
   "metadata": {},
   "source": [
    "# Dataset: Monthly asylum seeker for EDA"
   ]
  },
  {
   "cell_type": "code",
   "execution_count": 517,
   "id": "f1f04529",
   "metadata": {},
   "outputs": [
    {
     "name": "stderr",
     "output_type": "stream",
     "text": [
      "C:\\Users\\Sajiah Naqib\\anaconda3\\envs\\adm\\lib\\site-packages\\IPython\\core\\interactiveshell.py:3369: DtypeWarning: Columns (4) have mixed types.Specify dtype option on import or set low_memory=False.\n",
      "  exec(code_obj, self.user_global_ns, self.user_ns)\n"
     ]
    },
    {
     "data": {
      "text/html": [
       "<div>\n",
       "<style scoped>\n",
       "    .dataframe tbody tr th:only-of-type {\n",
       "        vertical-align: middle;\n",
       "    }\n",
       "\n",
       "    .dataframe tbody tr th {\n",
       "        vertical-align: top;\n",
       "    }\n",
       "\n",
       "    .dataframe thead th {\n",
       "        text-align: right;\n",
       "    }\n",
       "</style>\n",
       "<table border=\"1\" class=\"dataframe\">\n",
       "  <thead>\n",
       "    <tr style=\"text-align: right;\">\n",
       "      <th></th>\n",
       "      <th>Country / territory of asylum/residence</th>\n",
       "      <th>Origin</th>\n",
       "      <th>Year</th>\n",
       "      <th>Month</th>\n",
       "      <th>Value</th>\n",
       "    </tr>\n",
       "  </thead>\n",
       "  <tbody>\n",
       "    <tr>\n",
       "      <th>0</th>\n",
       "      <td>Australia</td>\n",
       "      <td>Afghanistan</td>\n",
       "      <td>1999</td>\n",
       "      <td>January</td>\n",
       "      <td>8</td>\n",
       "    </tr>\n",
       "    <tr>\n",
       "      <th>1</th>\n",
       "      <td>Australia</td>\n",
       "      <td>Afghanistan</td>\n",
       "      <td>1999</td>\n",
       "      <td>February</td>\n",
       "      <td>10</td>\n",
       "    </tr>\n",
       "    <tr>\n",
       "      <th>2</th>\n",
       "      <td>Australia</td>\n",
       "      <td>Afghanistan</td>\n",
       "      <td>1999</td>\n",
       "      <td>March</td>\n",
       "      <td>25</td>\n",
       "    </tr>\n",
       "    <tr>\n",
       "      <th>3</th>\n",
       "      <td>Australia</td>\n",
       "      <td>Afghanistan</td>\n",
       "      <td>1999</td>\n",
       "      <td>April</td>\n",
       "      <td>25</td>\n",
       "    </tr>\n",
       "    <tr>\n",
       "      <th>4</th>\n",
       "      <td>Australia</td>\n",
       "      <td>Afghanistan</td>\n",
       "      <td>1999</td>\n",
       "      <td>May</td>\n",
       "      <td>7</td>\n",
       "    </tr>\n",
       "  </tbody>\n",
       "</table>\n",
       "</div>"
      ],
      "text/plain": [
       "  Country / territory of asylum/residence       Origin  Year     Month Value\n",
       "0                               Australia  Afghanistan  1999   January     8\n",
       "1                               Australia  Afghanistan  1999  February    10\n",
       "2                               Australia  Afghanistan  1999     March    25\n",
       "3                               Australia  Afghanistan  1999     April    25\n",
       "4                               Australia  Afghanistan  1999       May     7"
      ]
     },
     "execution_count": 517,
     "metadata": {},
     "output_type": "execute_result"
    }
   ],
   "source": [
    "asylum_seekers_monthly = pd.read_csv('data/asylum_seekers_monthly.csv')\n",
    "asylum_seekers_monthly.head()"
   ]
  },
  {
   "cell_type": "code",
   "execution_count": 518,
   "id": "5ee9a16b",
   "metadata": {},
   "outputs": [],
   "source": [
    "asylum_seekers_monthly.columns = ['country_of_residence', \n",
    "          'country_of_origin', \n",
    "          'year_applied', \n",
    "          'month_applied', \n",
    "          'total_asylum_seekers']"
   ]
  },
  {
   "cell_type": "markdown",
   "id": "513b5736",
   "metadata": {},
   "source": [
    "### 1. Check and fix NA values"
   ]
  },
  {
   "cell_type": "code",
   "execution_count": 519,
   "id": "c24674ca",
   "metadata": {},
   "outputs": [
    {
     "data": {
      "text/plain": [
       "country_of_residence    0\n",
       "country_of_origin       0\n",
       "year_applied            0\n",
       "month_applied           0\n",
       "total_asylum_seekers    0\n",
       "dtype: int64"
      ]
     },
     "execution_count": 519,
     "metadata": {},
     "output_type": "execute_result"
    }
   ],
   "source": [
    "asylum_seekers_monthly.isna().sum()"
   ]
  },
  {
   "cell_type": "markdown",
   "id": "16802daa",
   "metadata": {},
   "source": [
    "### 2. Change columns values "
   ]
  },
  {
   "cell_type": "code",
   "execution_count": 520,
   "id": "e2ed1a7e",
   "metadata": {},
   "outputs": [],
   "source": [
    "def change_country_names_2(column_name):\n",
    "    asylum_seekers_monthly[column_name] = asylum_seekers_monthly[column_name].replace(['USA (INS/DHS)'],['USA'])\n",
    "    asylum_seekers_monthly[column_name] = asylum_seekers_monthly[column_name].replace(['United States of America'],['USA'])\n",
    "    asylum_seekers_monthly[column_name] = asylum_seekers_monthly[column_name].replace(['USA (EOIR)'],['USA'])\n",
    "    asylum_seekers_monthly[column_name] = asylum_seekers_monthly[column_name].replace(['Syrian Arab Rep.'],['Syria'])\n",
    "    asylum_seekers_monthly[column_name] = asylum_seekers_monthly[column_name].replace(['Serbia and Kosovo: S/RES/1244 (1999)'],['Serbia/Kosovo'])\n",
    "    asylum_seekers_monthly[column_name] = asylum_seekers_monthly[column_name].replace(['Venezuela (Bolivarian Republic of)'],['Venezuela'])\n",
    "    asylum_seekers_monthly[column_name] = asylum_seekers_monthly[column_name].replace(['Iran (Islamic Rep. of)'],['Iran'])\n",
    "    asylum_seekers_monthly[column_name] = asylum_seekers_monthly[column_name].replace(['The former Yugoslav Rep. of Macedonia'],['Macedonia'])\n",
    "    asylum_seekers_monthly[column_name] = asylum_seekers_monthly[column_name].replace(['United Arab Emirates'],['UAE'])\n",
    "    asylum_seekers_monthly[column_name] = asylum_seekers_monthly[column_name].replace(['Dem. Rep. of the Congo'],['Congo'])\n",
    "    asylum_seekers_monthly[column_name] = asylum_seekers_monthly[column_name].replace(['Bolivia (Plurinational State of)'],['Bolivia'])\n",
    "    asylum_seekers_monthly[column_name] = asylum_seekers_monthly[column_name].replace(['United Kingdom of Great Britain and Northern Ireland'],['UK'])\n",
    "    asylum_seekers_monthly[column_name] = asylum_seekers_monthly[column_name].replace(['Micronesia (Federated States of)'],['Micronesia'])\n",
    "change_country_names_2('country_of_residence')\n",
    "change_country_names_2('country_of_origin')"
   ]
  },
  {
   "cell_type": "code",
   "execution_count": 530,
   "id": "5bc6798e",
   "metadata": {},
   "outputs": [
    {
     "data": {
      "text/html": [
       "<div>\n",
       "<style scoped>\n",
       "    .dataframe tbody tr th:only-of-type {\n",
       "        vertical-align: middle;\n",
       "    }\n",
       "\n",
       "    .dataframe tbody tr th {\n",
       "        vertical-align: top;\n",
       "    }\n",
       "\n",
       "    .dataframe thead th {\n",
       "        text-align: right;\n",
       "    }\n",
       "</style>\n",
       "<table border=\"1\" class=\"dataframe\">\n",
       "  <thead>\n",
       "    <tr style=\"text-align: right;\">\n",
       "      <th></th>\n",
       "      <th>country_of_residence</th>\n",
       "      <th>country_of_origin</th>\n",
       "      <th>year_applied</th>\n",
       "      <th>month_applied</th>\n",
       "      <th>total_asylum_seekers</th>\n",
       "    </tr>\n",
       "  </thead>\n",
       "  <tbody>\n",
       "    <tr>\n",
       "      <th>332184</th>\n",
       "      <td>USA</td>\n",
       "      <td>Zimbabwe</td>\n",
       "      <td>2016</td>\n",
       "      <td>December</td>\n",
       "      <td>28</td>\n",
       "    </tr>\n",
       "    <tr>\n",
       "      <th>332185</th>\n",
       "      <td>USA</td>\n",
       "      <td>Zimbabwe</td>\n",
       "      <td>2017</td>\n",
       "      <td>February</td>\n",
       "      <td>27</td>\n",
       "    </tr>\n",
       "    <tr>\n",
       "      <th>332186</th>\n",
       "      <td>USA</td>\n",
       "      <td>Zimbabwe</td>\n",
       "      <td>2017</td>\n",
       "      <td>March</td>\n",
       "      <td>42</td>\n",
       "    </tr>\n",
       "    <tr>\n",
       "      <th>332187</th>\n",
       "      <td>USA</td>\n",
       "      <td>Zimbabwe</td>\n",
       "      <td>2017</td>\n",
       "      <td>April</td>\n",
       "      <td>16</td>\n",
       "    </tr>\n",
       "    <tr>\n",
       "      <th>332188</th>\n",
       "      <td>USA</td>\n",
       "      <td>Zimbabwe</td>\n",
       "      <td>2017</td>\n",
       "      <td>May</td>\n",
       "      <td>12</td>\n",
       "    </tr>\n",
       "  </tbody>\n",
       "</table>\n",
       "</div>"
      ],
      "text/plain": [
       "       country_of_residence country_of_origin  year_applied month_applied  \\\n",
       "332184                  USA          Zimbabwe          2016      December   \n",
       "332185                  USA          Zimbabwe          2017      February   \n",
       "332186                  USA          Zimbabwe          2017         March   \n",
       "332187                  USA          Zimbabwe          2017         April   \n",
       "332188                  USA          Zimbabwe          2017           May   \n",
       "\n",
       "       total_asylum_seekers  \n",
       "332184                   28  \n",
       "332185                   27  \n",
       "332186                   42  \n",
       "332187                   16  \n",
       "332188                   12  "
      ]
     },
     "execution_count": 530,
     "metadata": {},
     "output_type": "execute_result"
    }
   ],
   "source": [
    "asylum_seekers_monthly.tail()"
   ]
  },
  {
   "cell_type": "markdown",
   "id": "0c2bc601",
   "metadata": {},
   "source": [
    "# Dataset: Demographics for EDA"
   ]
  },
  {
   "cell_type": "code",
   "execution_count": 561,
   "id": "8a125262",
   "metadata": {},
   "outputs": [
    {
     "data": {
      "text/html": [
       "<div>\n",
       "<style scoped>\n",
       "    .dataframe tbody tr th:only-of-type {\n",
       "        vertical-align: middle;\n",
       "    }\n",
       "\n",
       "    .dataframe tbody tr th {\n",
       "        vertical-align: top;\n",
       "    }\n",
       "\n",
       "    .dataframe thead th {\n",
       "        text-align: right;\n",
       "    }\n",
       "</style>\n",
       "<table border=\"1\" class=\"dataframe\">\n",
       "  <thead>\n",
       "    <tr style=\"text-align: right;\">\n",
       "      <th></th>\n",
       "      <th>Year</th>\n",
       "      <th>Country / territory of asylum/residence</th>\n",
       "      <th>Location Name</th>\n",
       "      <th>Female 0-4</th>\n",
       "      <th>Female 5-11</th>\n",
       "      <th>Female 5-17</th>\n",
       "      <th>Female 12-17</th>\n",
       "      <th>Female 18-59</th>\n",
       "      <th>Female 60+</th>\n",
       "      <th>F: Unknown</th>\n",
       "      <th>F: Total</th>\n",
       "      <th>Male 0-4</th>\n",
       "      <th>Male 5-11</th>\n",
       "      <th>Male 5-17</th>\n",
       "      <th>Male 12-17</th>\n",
       "      <th>Male 18-59</th>\n",
       "      <th>Male 60+</th>\n",
       "      <th>M: Unknown</th>\n",
       "      <th>M: Total</th>\n",
       "    </tr>\n",
       "  </thead>\n",
       "  <tbody>\n",
       "    <tr>\n",
       "      <th>0</th>\n",
       "      <td>2001</td>\n",
       "      <td>Afghanistan</td>\n",
       "      <td>Kabul</td>\n",
       "      <td>0</td>\n",
       "      <td>NaN</td>\n",
       "      <td>1.0</td>\n",
       "      <td>NaN</td>\n",
       "      <td>1</td>\n",
       "      <td>0</td>\n",
       "      <td>0.0</td>\n",
       "      <td>2</td>\n",
       "      <td>0</td>\n",
       "      <td>NaN</td>\n",
       "      <td>0.0</td>\n",
       "      <td>NaN</td>\n",
       "      <td>2</td>\n",
       "      <td>0</td>\n",
       "      <td>0.0</td>\n",
       "      <td>2</td>\n",
       "    </tr>\n",
       "    <tr>\n",
       "      <th>1</th>\n",
       "      <td>2001</td>\n",
       "      <td>Afghanistan</td>\n",
       "      <td>Various</td>\n",
       "      <td>14335</td>\n",
       "      <td>NaN</td>\n",
       "      <td>45451.0</td>\n",
       "      <td>NaN</td>\n",
       "      <td>99880</td>\n",
       "      <td>19234</td>\n",
       "      <td>412004.0</td>\n",
       "      <td>590904</td>\n",
       "      <td>14716</td>\n",
       "      <td>NaN</td>\n",
       "      <td>47522.0</td>\n",
       "      <td>NaN</td>\n",
       "      <td>114965</td>\n",
       "      <td>13025</td>\n",
       "      <td>435492.0</td>\n",
       "      <td>625720</td>\n",
       "    </tr>\n",
       "    <tr>\n",
       "      <th>2</th>\n",
       "      <td>2001</td>\n",
       "      <td>Afghanistan</td>\n",
       "      <td>Herat</td>\n",
       "      <td>0</td>\n",
       "      <td>NaN</td>\n",
       "      <td>0.0</td>\n",
       "      <td>NaN</td>\n",
       "      <td>1</td>\n",
       "      <td>0</td>\n",
       "      <td>0.0</td>\n",
       "      <td>1</td>\n",
       "      <td>0</td>\n",
       "      <td>NaN</td>\n",
       "      <td>0.0</td>\n",
       "      <td>NaN</td>\n",
       "      <td>1</td>\n",
       "      <td>0</td>\n",
       "      <td>0.0</td>\n",
       "      <td>1</td>\n",
       "    </tr>\n",
       "    <tr>\n",
       "      <th>3</th>\n",
       "      <td>2001</td>\n",
       "      <td>Angola</td>\n",
       "      <td>Viana</td>\n",
       "      <td>484</td>\n",
       "      <td>NaN</td>\n",
       "      <td>1687.0</td>\n",
       "      <td>NaN</td>\n",
       "      <td>1282</td>\n",
       "      <td>43</td>\n",
       "      <td>0.0</td>\n",
       "      <td>3496</td>\n",
       "      <td>597</td>\n",
       "      <td>NaN</td>\n",
       "      <td>1645.0</td>\n",
       "      <td>NaN</td>\n",
       "      <td>787</td>\n",
       "      <td>34</td>\n",
       "      <td>0.0</td>\n",
       "      <td>3063</td>\n",
       "    </tr>\n",
       "    <tr>\n",
       "      <th>4</th>\n",
       "      <td>2001</td>\n",
       "      <td>Angola</td>\n",
       "      <td>Moxico</td>\n",
       "      <td>219</td>\n",
       "      <td>NaN</td>\n",
       "      <td>734.0</td>\n",
       "      <td>NaN</td>\n",
       "      <td>427</td>\n",
       "      <td>25</td>\n",
       "      <td>0.0</td>\n",
       "      <td>1405</td>\n",
       "      <td>226</td>\n",
       "      <td>NaN</td>\n",
       "      <td>711.0</td>\n",
       "      <td>NaN</td>\n",
       "      <td>139</td>\n",
       "      <td>15</td>\n",
       "      <td>0.0</td>\n",
       "      <td>1091</td>\n",
       "    </tr>\n",
       "  </tbody>\n",
       "</table>\n",
       "</div>"
      ],
      "text/plain": [
       "   Year Country / territory of asylum/residence Location Name Female 0-4  \\\n",
       "0  2001                             Afghanistan         Kabul          0   \n",
       "1  2001                             Afghanistan       Various      14335   \n",
       "2  2001                             Afghanistan         Herat          0   \n",
       "3  2001                                  Angola         Viana        484   \n",
       "4  2001                                  Angola        Moxico        219   \n",
       "\n",
       "  Female 5-11  Female 5-17 Female 12-17 Female 18-59 Female 60+  F: Unknown  \\\n",
       "0         NaN          1.0          NaN            1          0         0.0   \n",
       "1         NaN      45451.0          NaN        99880      19234    412004.0   \n",
       "2         NaN          0.0          NaN            1          0         0.0   \n",
       "3         NaN       1687.0          NaN         1282         43         0.0   \n",
       "4         NaN        734.0          NaN          427         25         0.0   \n",
       "\n",
       "  F: Total Male 0-4 Male 5-11  Male 5-17 Male 12-17 Male 18-59 Male 60+  \\\n",
       "0        2        0       NaN        0.0        NaN          2        0   \n",
       "1   590904    14716       NaN    47522.0        NaN     114965    13025   \n",
       "2        1        0       NaN        0.0        NaN          1        0   \n",
       "3     3496      597       NaN     1645.0        NaN        787       34   \n",
       "4     1405      226       NaN      711.0        NaN        139       15   \n",
       "\n",
       "   M: Unknown M: Total  \n",
       "0         0.0        2  \n",
       "1    435492.0   625720  \n",
       "2         0.0        1  \n",
       "3         0.0     3063  \n",
       "4         0.0     1091  "
      ]
     },
     "execution_count": 561,
     "metadata": {},
     "output_type": "execute_result"
    }
   ],
   "source": [
    "demographics = pd.read_csv('data/demographics.csv')\n",
    "demographics.head()"
   ]
  },
  {
   "cell_type": "code",
   "execution_count": 562,
   "id": "24ae09f3",
   "metadata": {},
   "outputs": [],
   "source": [
    "demographics.columns = ['year', 'country_of_residence', 'location', 'female_0_4', 'female_5_11','female_5_17', 'female_12_17',\n",
    "                        'female_above_18','female_senior_citizen','female_unknown','female_total','male_0_4','male_5_11', \n",
    "                        'male_5_17', 'male_12_17', 'male_above_18','male_senior_citizen', 'male_unknown', 'male_total']"
   ]
  },
  {
   "cell_type": "code",
   "execution_count": 563,
   "id": "f4f93a8a",
   "metadata": {},
   "outputs": [
    {
     "name": "stdout",
     "output_type": "stream",
     "text": [
      "<class 'pandas.core.frame.DataFrame'>\n",
      "RangeIndex: 18356 entries, 0 to 18355\n",
      "Data columns (total 19 columns):\n",
      " #   Column                 Non-Null Count  Dtype  \n",
      "---  ------                 --------------  -----  \n",
      " 0   year                   18356 non-null  int64  \n",
      " 1   country_of_residence   18356 non-null  object \n",
      " 2   location               18355 non-null  object \n",
      " 3   female_0_4             17083 non-null  object \n",
      " 4   female_5_11            13927 non-null  object \n",
      " 5   female_5_17            3196 non-null   float64\n",
      " 6   female_12_17           13949 non-null  object \n",
      " 7   female_above_18        17694 non-null  object \n",
      " 8   female_senior_citizen  16900 non-null  object \n",
      " 9   female_unknown         12493 non-null  float64\n",
      " 10  female_total           18356 non-null  object \n",
      " 11  male_0_4               17075 non-null  object \n",
      " 12  male_5_11              13950 non-null  object \n",
      " 13  male_5_17              3196 non-null   float64\n",
      " 14  male_12_17             13986 non-null  object \n",
      " 15  male_above_18          17920 non-null  object \n",
      " 16  male_senior_citizen    16986 non-null  object \n",
      " 17  male_unknown           12500 non-null  float64\n",
      " 18  male_total             18356 non-null  object \n",
      "dtypes: float64(4), int64(1), object(14)\n",
      "memory usage: 2.7+ MB\n"
     ]
    }
   ],
   "source": [
    "demographics.info()"
   ]
  },
  {
   "cell_type": "markdown",
   "id": "b0e563b5",
   "metadata": {},
   "source": [
    "### 1. Deal with NA values and drop irrelavant columns"
   ]
  },
  {
   "cell_type": "code",
   "execution_count": 564,
   "id": "bef54d63",
   "metadata": {},
   "outputs": [],
   "source": [
    "demographics = demographics.drop(['female_5_11','female_12_17','male_5_11','male_12_17', 'location'], axis = 1)"
   ]
  },
  {
   "cell_type": "code",
   "execution_count": 565,
   "id": "70d2c4f8",
   "metadata": {},
   "outputs": [],
   "source": [
    "demographics = demographics.fillna(0)"
   ]
  },
  {
   "cell_type": "code",
   "execution_count": 566,
   "id": "89a031d5",
   "metadata": {},
   "outputs": [],
   "source": [
    "for col in ['female_0_4', \\\n",
    "            'female_5_17', \\\n",
    "            'female_above_18', \\\n",
    "            'female_senior_citizen', \\\n",
    "            'female_unknown', \\\n",
    "            'male_0_4', \\\n",
    "            'male_5_17', \\\n",
    "            'male_above_18', \\\n",
    "            'male_senior_citizen', \\\n",
    "            'male_unknown']:\n",
    "    demographics[col] = pd.to_numeric(demographics[col], errors='coerce')\n",
    "    demographics[col] = demographics[col].astype('float')"
   ]
  },
  {
   "cell_type": "markdown",
   "id": "85b70df4",
   "metadata": {},
   "source": [
    "### 2. Combine features "
   ]
  },
  {
   "cell_type": "code",
   "execution_count": 567,
   "id": "d019a25a",
   "metadata": {},
   "outputs": [],
   "source": [
    "demographics['female_below_18'] = demographics['female_0_4'] + demographics['female_5_17']\n",
    "demographics['male_below_18'] = demographics['male_0_4'] + demographics['male_5_17']\n",
    "demographics = demographics.drop(['female_0_4','female_5_17', 'male_0_4', 'male_5_17'], axis = 1)"
   ]
  },
  {
   "cell_type": "code",
   "execution_count": 569,
   "id": "1b3eb243",
   "metadata": {},
   "outputs": [],
   "source": [
    "demographics = demographics.fillna(0)"
   ]
  },
  {
   "cell_type": "code",
   "execution_count": 571,
   "id": "44c4fe91",
   "metadata": {},
   "outputs": [
    {
     "data": {
      "text/html": [
       "<div>\n",
       "<style scoped>\n",
       "    .dataframe tbody tr th:only-of-type {\n",
       "        vertical-align: middle;\n",
       "    }\n",
       "\n",
       "    .dataframe tbody tr th {\n",
       "        vertical-align: top;\n",
       "    }\n",
       "\n",
       "    .dataframe thead th {\n",
       "        text-align: right;\n",
       "    }\n",
       "</style>\n",
       "<table border=\"1\" class=\"dataframe\">\n",
       "  <thead>\n",
       "    <tr style=\"text-align: right;\">\n",
       "      <th></th>\n",
       "      <th>year</th>\n",
       "      <th>country_of_residence</th>\n",
       "      <th>female_above_18</th>\n",
       "      <th>female_senior_citizen</th>\n",
       "      <th>female_unknown</th>\n",
       "      <th>female_total</th>\n",
       "      <th>male_above_18</th>\n",
       "      <th>male_senior_citizen</th>\n",
       "      <th>male_unknown</th>\n",
       "      <th>male_total</th>\n",
       "      <th>female_below_18</th>\n",
       "      <th>male_below_18</th>\n",
       "    </tr>\n",
       "  </thead>\n",
       "  <tbody>\n",
       "    <tr>\n",
       "      <th>0</th>\n",
       "      <td>2001</td>\n",
       "      <td>Afghanistan</td>\n",
       "      <td>1.0</td>\n",
       "      <td>0.0</td>\n",
       "      <td>0.0</td>\n",
       "      <td>2</td>\n",
       "      <td>2.0</td>\n",
       "      <td>0.0</td>\n",
       "      <td>0.0</td>\n",
       "      <td>2</td>\n",
       "      <td>1.0</td>\n",
       "      <td>0.0</td>\n",
       "    </tr>\n",
       "    <tr>\n",
       "      <th>1</th>\n",
       "      <td>2001</td>\n",
       "      <td>Afghanistan</td>\n",
       "      <td>99880.0</td>\n",
       "      <td>19234.0</td>\n",
       "      <td>412004.0</td>\n",
       "      <td>590904</td>\n",
       "      <td>114965.0</td>\n",
       "      <td>13025.0</td>\n",
       "      <td>435492.0</td>\n",
       "      <td>625720</td>\n",
       "      <td>59786.0</td>\n",
       "      <td>62238.0</td>\n",
       "    </tr>\n",
       "    <tr>\n",
       "      <th>2</th>\n",
       "      <td>2001</td>\n",
       "      <td>Afghanistan</td>\n",
       "      <td>1.0</td>\n",
       "      <td>0.0</td>\n",
       "      <td>0.0</td>\n",
       "      <td>1</td>\n",
       "      <td>1.0</td>\n",
       "      <td>0.0</td>\n",
       "      <td>0.0</td>\n",
       "      <td>1</td>\n",
       "      <td>0.0</td>\n",
       "      <td>0.0</td>\n",
       "    </tr>\n",
       "    <tr>\n",
       "      <th>3</th>\n",
       "      <td>2001</td>\n",
       "      <td>Angola</td>\n",
       "      <td>1282.0</td>\n",
       "      <td>43.0</td>\n",
       "      <td>0.0</td>\n",
       "      <td>3496</td>\n",
       "      <td>787.0</td>\n",
       "      <td>34.0</td>\n",
       "      <td>0.0</td>\n",
       "      <td>3063</td>\n",
       "      <td>2171.0</td>\n",
       "      <td>2242.0</td>\n",
       "    </tr>\n",
       "    <tr>\n",
       "      <th>4</th>\n",
       "      <td>2001</td>\n",
       "      <td>Angola</td>\n",
       "      <td>427.0</td>\n",
       "      <td>25.0</td>\n",
       "      <td>0.0</td>\n",
       "      <td>1405</td>\n",
       "      <td>139.0</td>\n",
       "      <td>15.0</td>\n",
       "      <td>0.0</td>\n",
       "      <td>1091</td>\n",
       "      <td>953.0</td>\n",
       "      <td>937.0</td>\n",
       "    </tr>\n",
       "  </tbody>\n",
       "</table>\n",
       "</div>"
      ],
      "text/plain": [
       "   year country_of_residence  female_above_18  female_senior_citizen  \\\n",
       "0  2001          Afghanistan              1.0                    0.0   \n",
       "1  2001          Afghanistan          99880.0                19234.0   \n",
       "2  2001          Afghanistan              1.0                    0.0   \n",
       "3  2001               Angola           1282.0                   43.0   \n",
       "4  2001               Angola            427.0                   25.0   \n",
       "\n",
       "   female_unknown female_total  male_above_18  male_senior_citizen  \\\n",
       "0             0.0            2            2.0                  0.0   \n",
       "1        412004.0       590904       114965.0              13025.0   \n",
       "2             0.0            1            1.0                  0.0   \n",
       "3             0.0         3496          787.0                 34.0   \n",
       "4             0.0         1405          139.0                 15.0   \n",
       "\n",
       "   male_unknown male_total  female_below_18  male_below_18  \n",
       "0           0.0          2              1.0            0.0  \n",
       "1      435492.0     625720          59786.0        62238.0  \n",
       "2           0.0          1              0.0            0.0  \n",
       "3           0.0       3063           2171.0         2242.0  \n",
       "4           0.0       1091            953.0          937.0  "
      ]
     },
     "execution_count": 571,
     "metadata": {},
     "output_type": "execute_result"
    }
   ],
   "source": [
    "demographics.head()"
   ]
  },
  {
   "cell_type": "code",
   "execution_count": null,
   "id": "2583b330",
   "metadata": {},
   "outputs": [],
   "source": []
  }
 ],
 "metadata": {
  "kernelspec": {
   "display_name": "Python 3 (ipykernel)",
   "language": "python",
   "name": "python3"
  },
  "language_info": {
   "codemirror_mode": {
    "name": "ipython",
    "version": 3
   },
   "file_extension": ".py",
   "mimetype": "text/x-python",
   "name": "python",
   "nbconvert_exporter": "python",
   "pygments_lexer": "ipython3",
   "version": "3.8.13"
  }
 },
 "nbformat": 4,
 "nbformat_minor": 5
}
