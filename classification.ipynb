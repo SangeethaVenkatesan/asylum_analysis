{
 "cells": [
  {
   "cell_type": "code",
   "execution_count": 71,
   "id": "ebb27506",
   "metadata": {},
   "outputs": [],
   "source": [
    "import pandas as pd\n",
    "import numpy as np"
   ]
  },
  {
   "cell_type": "markdown",
   "id": "e3f6dcb3",
   "metadata": {},
   "source": [
    "# 1. Preprocessed Data for Classification"
   ]
  },
  {
   "cell_type": "code",
   "execution_count": 72,
   "id": "ff6d4b50",
   "metadata": {},
   "outputs": [],
   "source": [
    "asylum_seekers_processed = pd.read_csv('EDA/processed_asylum_seekers.csv')"
   ]
  },
  {
   "cell_type": "code",
   "execution_count": 73,
   "id": "abbc93fd",
   "metadata": {
    "scrolled": true
   },
   "outputs": [
    {
     "data": {
      "text/html": [
       "<div>\n",
       "<style scoped>\n",
       "    .dataframe tbody tr th:only-of-type {\n",
       "        vertical-align: middle;\n",
       "    }\n",
       "\n",
       "    .dataframe tbody tr th {\n",
       "        vertical-align: top;\n",
       "    }\n",
       "\n",
       "    .dataframe thead th {\n",
       "        text-align: right;\n",
       "    }\n",
       "</style>\n",
       "<table border=\"1\" class=\"dataframe\">\n",
       "  <thead>\n",
       "    <tr style=\"text-align: right;\">\n",
       "      <th></th>\n",
       "      <th>year</th>\n",
       "      <th>country_of_residence</th>\n",
       "      <th>country_of_origin</th>\n",
       "      <th>total_applied_during_year</th>\n",
       "      <th>decisions_recognized</th>\n",
       "      <th>total_rejected</th>\n",
       "      <th>decisions_closed</th>\n",
       "      <th>total_pending_year_start</th>\n",
       "      <th>total_pending_year_end</th>\n",
       "      <th>application_authority</th>\n",
       "      <th>stage_of_application</th>\n",
       "      <th>Rejected(Y/N)</th>\n",
       "    </tr>\n",
       "  </thead>\n",
       "  <tbody>\n",
       "    <tr>\n",
       "      <th>0</th>\n",
       "      <td>2000</td>\n",
       "      <td>Zimbabwe</td>\n",
       "      <td>Afghanistan</td>\n",
       "      <td>5.0</td>\n",
       "      <td>5.0</td>\n",
       "      <td>0.0</td>\n",
       "      <td>0.0</td>\n",
       "      <td>0.0</td>\n",
       "      <td>0.0</td>\n",
       "      <td>G</td>\n",
       "      <td>FI</td>\n",
       "      <td>N</td>\n",
       "    </tr>\n",
       "    <tr>\n",
       "      <th>1</th>\n",
       "      <td>2000</td>\n",
       "      <td>South Africa</td>\n",
       "      <td>Afghanistan</td>\n",
       "      <td>0.0</td>\n",
       "      <td>0.0</td>\n",
       "      <td>0.0</td>\n",
       "      <td>0.0</td>\n",
       "      <td>9.0</td>\n",
       "      <td>8.0</td>\n",
       "      <td>G</td>\n",
       "      <td>FI</td>\n",
       "      <td>N</td>\n",
       "    </tr>\n",
       "    <tr>\n",
       "      <th>2</th>\n",
       "      <td>2000</td>\n",
       "      <td>Uzbekistan</td>\n",
       "      <td>Afghanistan</td>\n",
       "      <td>2156.0</td>\n",
       "      <td>747.0</td>\n",
       "      <td>112.0</td>\n",
       "      <td>327.0</td>\n",
       "      <td>530.0</td>\n",
       "      <td>2470.0</td>\n",
       "      <td>U</td>\n",
       "      <td>FI</td>\n",
       "      <td>Y</td>\n",
       "    </tr>\n",
       "    <tr>\n",
       "      <th>3</th>\n",
       "      <td>2000</td>\n",
       "      <td>USA</td>\n",
       "      <td>Afghanistan</td>\n",
       "      <td>225.0</td>\n",
       "      <td>151.0</td>\n",
       "      <td>31.0</td>\n",
       "      <td>68.0</td>\n",
       "      <td>196.0</td>\n",
       "      <td>171.0</td>\n",
       "      <td>G</td>\n",
       "      <td>EO</td>\n",
       "      <td>Y</td>\n",
       "    </tr>\n",
       "    <tr>\n",
       "      <th>4</th>\n",
       "      <td>2000</td>\n",
       "      <td>USA</td>\n",
       "      <td>Afghanistan</td>\n",
       "      <td>218.0</td>\n",
       "      <td>182.0</td>\n",
       "      <td>51.0</td>\n",
       "      <td>40.0</td>\n",
       "      <td>193.0</td>\n",
       "      <td>150.0</td>\n",
       "      <td>G</td>\n",
       "      <td>IN</td>\n",
       "      <td>Y</td>\n",
       "    </tr>\n",
       "  </tbody>\n",
       "</table>\n",
       "</div>"
      ],
      "text/plain": [
       "   year country_of_residence country_of_origin  total_applied_during_year  \\\n",
       "0  2000             Zimbabwe       Afghanistan                        5.0   \n",
       "1  2000         South Africa       Afghanistan                        0.0   \n",
       "2  2000           Uzbekistan       Afghanistan                     2156.0   \n",
       "3  2000                  USA       Afghanistan                      225.0   \n",
       "4  2000                  USA       Afghanistan                      218.0   \n",
       "\n",
       "   decisions_recognized  total_rejected  decisions_closed  \\\n",
       "0                   5.0             0.0               0.0   \n",
       "1                   0.0             0.0               0.0   \n",
       "2                 747.0           112.0             327.0   \n",
       "3                 151.0            31.0              68.0   \n",
       "4                 182.0            51.0              40.0   \n",
       "\n",
       "   total_pending_year_start  total_pending_year_end application_authority  \\\n",
       "0                       0.0                     0.0                     G   \n",
       "1                       9.0                     8.0                     G   \n",
       "2                     530.0                  2470.0                     U   \n",
       "3                     196.0                   171.0                     G   \n",
       "4                     193.0                   150.0                     G   \n",
       "\n",
       "  stage_of_application Rejected(Y/N)  \n",
       "0                   FI             N  \n",
       "1                   FI             N  \n",
       "2                   FI             Y  \n",
       "3                   EO             Y  \n",
       "4                   IN             Y  "
      ]
     },
     "execution_count": 73,
     "metadata": {},
     "output_type": "execute_result"
    }
   ],
   "source": [
    "asylum_seekers_processed.head()"
   ]
  },
  {
   "cell_type": "markdown",
   "id": "9669b33e",
   "metadata": {},
   "source": [
    "### 1 = Y (Rejected)\n",
    "### 0 = N (Not Rejected)"
   ]
  },
  {
   "cell_type": "code",
   "execution_count": 74,
   "id": "c3b57a4a",
   "metadata": {},
   "outputs": [],
   "source": [
    "def change_int(x):\n",
    "    if x=='Y':\n",
    "        return 1\n",
    "    else:\n",
    "        return 0    \n",
    "asylum_seekers_processed['Rejected(Y/N)'] = asylum_seekers_processed['Rejected(Y/N)'].apply(change_int)"
   ]
  },
  {
   "cell_type": "markdown",
   "id": "0a358547",
   "metadata": {},
   "source": [
    "### Drop columns that are very closely aligned to class labels"
   ]
  },
  {
   "cell_type": "code",
   "execution_count": 75,
   "id": "102514a6",
   "metadata": {},
   "outputs": [],
   "source": [
    "asylum_seekers_processed = asylum_seekers_processed.drop(['total_rejected', 'decisions_recognized', 'decisions_closed'], axis = 1)"
   ]
  },
  {
   "cell_type": "code",
   "execution_count": 76,
   "id": "5e618860",
   "metadata": {},
   "outputs": [
    {
     "data": {
      "text/html": [
       "<div>\n",
       "<style scoped>\n",
       "    .dataframe tbody tr th:only-of-type {\n",
       "        vertical-align: middle;\n",
       "    }\n",
       "\n",
       "    .dataframe tbody tr th {\n",
       "        vertical-align: top;\n",
       "    }\n",
       "\n",
       "    .dataframe thead th {\n",
       "        text-align: right;\n",
       "    }\n",
       "</style>\n",
       "<table border=\"1\" class=\"dataframe\">\n",
       "  <thead>\n",
       "    <tr style=\"text-align: right;\">\n",
       "      <th></th>\n",
       "      <th>year</th>\n",
       "      <th>country_of_residence</th>\n",
       "      <th>country_of_origin</th>\n",
       "      <th>total_applied_during_year</th>\n",
       "      <th>total_pending_year_start</th>\n",
       "      <th>total_pending_year_end</th>\n",
       "      <th>application_authority</th>\n",
       "      <th>stage_of_application</th>\n",
       "      <th>Rejected(Y/N)</th>\n",
       "    </tr>\n",
       "  </thead>\n",
       "  <tbody>\n",
       "    <tr>\n",
       "      <th>0</th>\n",
       "      <td>2000</td>\n",
       "      <td>Zimbabwe</td>\n",
       "      <td>Afghanistan</td>\n",
       "      <td>5.0</td>\n",
       "      <td>0.0</td>\n",
       "      <td>0.0</td>\n",
       "      <td>G</td>\n",
       "      <td>FI</td>\n",
       "      <td>0</td>\n",
       "    </tr>\n",
       "    <tr>\n",
       "      <th>1</th>\n",
       "      <td>2000</td>\n",
       "      <td>South Africa</td>\n",
       "      <td>Afghanistan</td>\n",
       "      <td>0.0</td>\n",
       "      <td>9.0</td>\n",
       "      <td>8.0</td>\n",
       "      <td>G</td>\n",
       "      <td>FI</td>\n",
       "      <td>0</td>\n",
       "    </tr>\n",
       "    <tr>\n",
       "      <th>2</th>\n",
       "      <td>2000</td>\n",
       "      <td>Uzbekistan</td>\n",
       "      <td>Afghanistan</td>\n",
       "      <td>2156.0</td>\n",
       "      <td>530.0</td>\n",
       "      <td>2470.0</td>\n",
       "      <td>U</td>\n",
       "      <td>FI</td>\n",
       "      <td>1</td>\n",
       "    </tr>\n",
       "    <tr>\n",
       "      <th>3</th>\n",
       "      <td>2000</td>\n",
       "      <td>USA</td>\n",
       "      <td>Afghanistan</td>\n",
       "      <td>225.0</td>\n",
       "      <td>196.0</td>\n",
       "      <td>171.0</td>\n",
       "      <td>G</td>\n",
       "      <td>EO</td>\n",
       "      <td>1</td>\n",
       "    </tr>\n",
       "    <tr>\n",
       "      <th>4</th>\n",
       "      <td>2000</td>\n",
       "      <td>USA</td>\n",
       "      <td>Afghanistan</td>\n",
       "      <td>218.0</td>\n",
       "      <td>193.0</td>\n",
       "      <td>150.0</td>\n",
       "      <td>G</td>\n",
       "      <td>IN</td>\n",
       "      <td>1</td>\n",
       "    </tr>\n",
       "  </tbody>\n",
       "</table>\n",
       "</div>"
      ],
      "text/plain": [
       "   year country_of_residence country_of_origin  total_applied_during_year  \\\n",
       "0  2000             Zimbabwe       Afghanistan                        5.0   \n",
       "1  2000         South Africa       Afghanistan                        0.0   \n",
       "2  2000           Uzbekistan       Afghanistan                     2156.0   \n",
       "3  2000                  USA       Afghanistan                      225.0   \n",
       "4  2000                  USA       Afghanistan                      218.0   \n",
       "\n",
       "   total_pending_year_start  total_pending_year_end application_authority  \\\n",
       "0                       0.0                     0.0                     G   \n",
       "1                       9.0                     8.0                     G   \n",
       "2                     530.0                  2470.0                     U   \n",
       "3                     196.0                   171.0                     G   \n",
       "4                     193.0                   150.0                     G   \n",
       "\n",
       "  stage_of_application  Rejected(Y/N)  \n",
       "0                   FI              0  \n",
       "1                   FI              0  \n",
       "2                   FI              1  \n",
       "3                   EO              1  \n",
       "4                   IN              1  "
      ]
     },
     "execution_count": 76,
     "metadata": {},
     "output_type": "execute_result"
    }
   ],
   "source": [
    "asylum_seekers_processed.head()"
   ]
  },
  {
   "cell_type": "markdown",
   "id": "f251c6e2",
   "metadata": {},
   "source": [
    "### Drop class label for X\n",
    "### y = class label"
   ]
  },
  {
   "cell_type": "code",
   "execution_count": 77,
   "id": "f44b8e18",
   "metadata": {},
   "outputs": [],
   "source": [
    "X_catboost = asylum_seekers_processed.drop('Rejected(Y/N)', axis = 1)\n",
    "y_catboost = asylum_seekers_processed['Rejected(Y/N)']"
   ]
  },
  {
   "cell_type": "code",
   "execution_count": 78,
   "id": "962b3b0c",
   "metadata": {},
   "outputs": [
    {
     "data": {
      "text/html": [
       "<div>\n",
       "<style scoped>\n",
       "    .dataframe tbody tr th:only-of-type {\n",
       "        vertical-align: middle;\n",
       "    }\n",
       "\n",
       "    .dataframe tbody tr th {\n",
       "        vertical-align: top;\n",
       "    }\n",
       "\n",
       "    .dataframe thead th {\n",
       "        text-align: right;\n",
       "    }\n",
       "</style>\n",
       "<table border=\"1\" class=\"dataframe\">\n",
       "  <thead>\n",
       "    <tr style=\"text-align: right;\">\n",
       "      <th></th>\n",
       "      <th>year</th>\n",
       "      <th>country_of_residence</th>\n",
       "      <th>country_of_origin</th>\n",
       "      <th>total_applied_during_year</th>\n",
       "      <th>total_pending_year_start</th>\n",
       "      <th>total_pending_year_end</th>\n",
       "      <th>application_authority</th>\n",
       "      <th>stage_of_application</th>\n",
       "    </tr>\n",
       "  </thead>\n",
       "  <tbody>\n",
       "    <tr>\n",
       "      <th>0</th>\n",
       "      <td>2000</td>\n",
       "      <td>Zimbabwe</td>\n",
       "      <td>Afghanistan</td>\n",
       "      <td>5.0</td>\n",
       "      <td>0.0</td>\n",
       "      <td>0.0</td>\n",
       "      <td>G</td>\n",
       "      <td>FI</td>\n",
       "    </tr>\n",
       "    <tr>\n",
       "      <th>1</th>\n",
       "      <td>2000</td>\n",
       "      <td>South Africa</td>\n",
       "      <td>Afghanistan</td>\n",
       "      <td>0.0</td>\n",
       "      <td>9.0</td>\n",
       "      <td>8.0</td>\n",
       "      <td>G</td>\n",
       "      <td>FI</td>\n",
       "    </tr>\n",
       "    <tr>\n",
       "      <th>2</th>\n",
       "      <td>2000</td>\n",
       "      <td>Uzbekistan</td>\n",
       "      <td>Afghanistan</td>\n",
       "      <td>2156.0</td>\n",
       "      <td>530.0</td>\n",
       "      <td>2470.0</td>\n",
       "      <td>U</td>\n",
       "      <td>FI</td>\n",
       "    </tr>\n",
       "    <tr>\n",
       "      <th>3</th>\n",
       "      <td>2000</td>\n",
       "      <td>USA</td>\n",
       "      <td>Afghanistan</td>\n",
       "      <td>225.0</td>\n",
       "      <td>196.0</td>\n",
       "      <td>171.0</td>\n",
       "      <td>G</td>\n",
       "      <td>EO</td>\n",
       "    </tr>\n",
       "    <tr>\n",
       "      <th>4</th>\n",
       "      <td>2000</td>\n",
       "      <td>USA</td>\n",
       "      <td>Afghanistan</td>\n",
       "      <td>218.0</td>\n",
       "      <td>193.0</td>\n",
       "      <td>150.0</td>\n",
       "      <td>G</td>\n",
       "      <td>IN</td>\n",
       "    </tr>\n",
       "  </tbody>\n",
       "</table>\n",
       "</div>"
      ],
      "text/plain": [
       "   year country_of_residence country_of_origin  total_applied_during_year  \\\n",
       "0  2000             Zimbabwe       Afghanistan                        5.0   \n",
       "1  2000         South Africa       Afghanistan                        0.0   \n",
       "2  2000           Uzbekistan       Afghanistan                     2156.0   \n",
       "3  2000                  USA       Afghanistan                      225.0   \n",
       "4  2000                  USA       Afghanistan                      218.0   \n",
       "\n",
       "   total_pending_year_start  total_pending_year_end application_authority  \\\n",
       "0                       0.0                     0.0                     G   \n",
       "1                       9.0                     8.0                     G   \n",
       "2                     530.0                  2470.0                     U   \n",
       "3                     196.0                   171.0                     G   \n",
       "4                     193.0                   150.0                     G   \n",
       "\n",
       "  stage_of_application  \n",
       "0                   FI  \n",
       "1                   FI  \n",
       "2                   FI  \n",
       "3                   EO  \n",
       "4                   IN  "
      ]
     },
     "execution_count": 78,
     "metadata": {},
     "output_type": "execute_result"
    }
   ],
   "source": [
    "X_catboost.head()"
   ]
  },
  {
   "cell_type": "markdown",
   "id": "2a1e070b",
   "metadata": {},
   "source": [
    "# First Classification Algorithm is Catboost Classifier"
   ]
  },
  {
   "cell_type": "markdown",
   "id": "2e134395",
   "metadata": {},
   "source": [
    "### All non-float features are converted to strings and will be treated as categorical:"
   ]
  },
  {
   "cell_type": "code",
   "execution_count": 79,
   "id": "ef1f6008",
   "metadata": {},
   "outputs": [
    {
     "name": "stderr",
     "output_type": "stream",
     "text": [
      "C:\\Users\\Sajiah Naqib\\AppData\\Local\\Temp\\ipykernel_12336\\2204438396.py:3: DeprecationWarning: `np.float` is a deprecated alias for the builtin `float`. To silence this warning, use `float` by itself. Doing this will not modify any behavior and is safe. If you specifically wanted the numpy scalar type, use `np.float64` here.\n",
      "Deprecated in NumPy 1.20; for more details and guidance: https://numpy.org/devdocs/release/1.20.0-notes.html#deprecations\n",
      "  supposed_categorical_features_indices = np.where(X_catboost.dtypes != np.float)[0]\n"
     ]
    },
    {
     "data": {
      "text/plain": [
       "5"
      ]
     },
     "execution_count": 79,
     "metadata": {},
     "output_type": "execute_result"
    }
   ],
   "source": [
    "import numpy as np\n",
    "\n",
    "supposed_categorical_features_indices = np.where(X_catboost.dtypes != np.float)[0]\n",
    "len(supposed_categorical_features_indices)"
   ]
  },
  {
   "cell_type": "code",
   "execution_count": 80,
   "id": "d1383082",
   "metadata": {},
   "outputs": [
    {
     "name": "stdout",
     "output_type": "stream",
     "text": [
      "0         2000.0\n",
      "1         2000.0\n",
      "2         2000.0\n",
      "3         2000.0\n",
      "4         2000.0\n",
      "           ...  \n",
      "129715    2016.0\n",
      "129716    2016.0\n",
      "129717    2016.0\n",
      "129718    2016.0\n",
      "129719    2016.0\n",
      "Name: year, Length: 129720, dtype: float64\n"
     ]
    },
    {
     "data": {
      "text/plain": [
       "4"
      ]
     },
     "execution_count": 80,
     "metadata": {},
     "output_type": "execute_result"
    }
   ],
   "source": [
    "categorical_features_indices = []\n",
    "for c in supposed_categorical_features_indices:\n",
    "    try:\n",
    "        X_catboost[X_catboost.columns[c]] = X_catboost[X_catboost.columns[c]].astype(float)\n",
    "        print(X_catboost[X_catboost.columns[c]])\n",
    "    except:\n",
    "        categorical_features_indices.append(c)\n",
    "len(categorical_features_indices)"
   ]
  },
  {
   "cell_type": "code",
   "execution_count": 81,
   "id": "6262194c",
   "metadata": {},
   "outputs": [],
   "source": [
    "for c in categorical_features_indices:\n",
    "    X_catboost[X_catboost.columns[c]] = X_catboost[X_catboost.columns[c]].astype(str)\n",
    "   "
   ]
  },
  {
   "cell_type": "markdown",
   "id": "d26e42d6",
   "metadata": {},
   "source": [
    "### Split dataset into training and testing (33% test dataset)"
   ]
  },
  {
   "cell_type": "code",
   "execution_count": 82,
   "id": "892d22c2",
   "metadata": {},
   "outputs": [],
   "source": [
    "from sklearn.model_selection import train_test_split\n",
    "\n",
    "X_train, X_test, y_train, y_test = train_test_split(\n",
    "    X_catboost, y_catboost, test_size=0.33, random_state=42)"
   ]
  },
  {
   "cell_type": "code",
   "execution_count": 83,
   "id": "a7a0a72d",
   "metadata": {},
   "outputs": [],
   "source": [
    "classes = np.unique(y_train)"
   ]
  },
  {
   "cell_type": "code",
   "execution_count": 84,
   "id": "a783c603",
   "metadata": {},
   "outputs": [
    {
     "name": "stdout",
     "output_type": "stream",
     "text": [
      "Learning rate set to 0.130908\n",
      "0:\tlearn: 0.6284578\ttotal: 70.9ms\tremaining: 35.4s\n",
      "1:\tlearn: 0.5813650\ttotal: 135ms\tremaining: 33.6s\n",
      "2:\tlearn: 0.5460048\ttotal: 204ms\tremaining: 33.9s\n",
      "3:\tlearn: 0.5224447\ttotal: 271ms\tremaining: 33.6s\n",
      "4:\tlearn: 0.5006019\ttotal: 348ms\tremaining: 34.4s\n",
      "5:\tlearn: 0.4858011\ttotal: 417ms\tremaining: 34.3s\n",
      "6:\tlearn: 0.4741825\ttotal: 473ms\tremaining: 33.3s\n",
      "7:\tlearn: 0.4645219\ttotal: 535ms\tremaining: 32.9s\n",
      "8:\tlearn: 0.4552653\ttotal: 607ms\tremaining: 33.1s\n",
      "9:\tlearn: 0.4488968\ttotal: 667ms\tremaining: 32.7s\n",
      "10:\tlearn: 0.4415769\ttotal: 801ms\tremaining: 35.6s\n",
      "11:\tlearn: 0.4370659\ttotal: 869ms\tremaining: 35.3s\n",
      "12:\tlearn: 0.4302259\ttotal: 940ms\tremaining: 35.2s\n",
      "13:\tlearn: 0.4263441\ttotal: 1.03s\tremaining: 35.9s\n",
      "14:\tlearn: 0.4217228\ttotal: 1.1s\tremaining: 35.6s\n",
      "15:\tlearn: 0.4184069\ttotal: 1.17s\tremaining: 35.5s\n",
      "16:\tlearn: 0.4160929\ttotal: 1.23s\tremaining: 35s\n",
      "17:\tlearn: 0.4139753\ttotal: 1.29s\tremaining: 34.5s\n",
      "18:\tlearn: 0.4119177\ttotal: 1.34s\tremaining: 34.1s\n",
      "19:\tlearn: 0.4101297\ttotal: 1.4s\tremaining: 33.7s\n",
      "20:\tlearn: 0.4085553\ttotal: 1.49s\tremaining: 34.1s\n",
      "21:\tlearn: 0.4075964\ttotal: 1.54s\tremaining: 33.4s\n",
      "22:\tlearn: 0.4056615\ttotal: 1.59s\tremaining: 33.1s\n",
      "23:\tlearn: 0.4022543\ttotal: 1.69s\tremaining: 33.4s\n",
      "24:\tlearn: 0.3983661\ttotal: 1.75s\tremaining: 33.3s\n",
      "25:\tlearn: 0.3964696\ttotal: 1.83s\tremaining: 33.4s\n",
      "26:\tlearn: 0.3957385\ttotal: 1.89s\tremaining: 33.1s\n",
      "27:\tlearn: 0.3947944\ttotal: 1.95s\tremaining: 32.9s\n",
      "28:\tlearn: 0.3931974\ttotal: 2.01s\tremaining: 32.7s\n",
      "29:\tlearn: 0.3924401\ttotal: 2.07s\tremaining: 32.5s\n",
      "30:\tlearn: 0.3917312\ttotal: 2.14s\tremaining: 32.4s\n",
      "31:\tlearn: 0.3904135\ttotal: 2.2s\tremaining: 32.1s\n",
      "32:\tlearn: 0.3889545\ttotal: 2.26s\tremaining: 32s\n",
      "33:\tlearn: 0.3882630\ttotal: 2.32s\tremaining: 31.8s\n",
      "34:\tlearn: 0.3868009\ttotal: 2.39s\tremaining: 31.8s\n",
      "35:\tlearn: 0.3848950\ttotal: 2.45s\tremaining: 31.6s\n",
      "36:\tlearn: 0.3840366\ttotal: 2.51s\tremaining: 31.4s\n",
      "37:\tlearn: 0.3829410\ttotal: 2.58s\tremaining: 31.3s\n",
      "38:\tlearn: 0.3821970\ttotal: 2.66s\tremaining: 31.4s\n",
      "39:\tlearn: 0.3815086\ttotal: 2.75s\tremaining: 31.6s\n",
      "40:\tlearn: 0.3812628\ttotal: 2.81s\tremaining: 31.4s\n",
      "41:\tlearn: 0.3808177\ttotal: 2.88s\tremaining: 31.4s\n",
      "42:\tlearn: 0.3797256\ttotal: 2.94s\tremaining: 31.3s\n",
      "43:\tlearn: 0.3788236\ttotal: 3s\tremaining: 31.1s\n",
      "44:\tlearn: 0.3784028\ttotal: 3.06s\tremaining: 31s\n",
      "45:\tlearn: 0.3779295\ttotal: 3.15s\tremaining: 31.1s\n",
      "46:\tlearn: 0.3769761\ttotal: 3.21s\tremaining: 31s\n",
      "47:\tlearn: 0.3759554\ttotal: 3.28s\tremaining: 30.9s\n",
      "48:\tlearn: 0.3753168\ttotal: 3.33s\tremaining: 30.7s\n",
      "49:\tlearn: 0.3746934\ttotal: 3.39s\tremaining: 30.5s\n",
      "50:\tlearn: 0.3741870\ttotal: 3.45s\tremaining: 30.4s\n",
      "51:\tlearn: 0.3734427\ttotal: 3.52s\tremaining: 30.3s\n",
      "52:\tlearn: 0.3731973\ttotal: 3.57s\tremaining: 30.1s\n",
      "53:\tlearn: 0.3729063\ttotal: 3.64s\tremaining: 30s\n",
      "54:\tlearn: 0.3722657\ttotal: 3.72s\tremaining: 30.1s\n",
      "55:\tlearn: 0.3715385\ttotal: 3.81s\tremaining: 30.2s\n",
      "56:\tlearn: 0.3711010\ttotal: 3.88s\tremaining: 30.1s\n",
      "57:\tlearn: 0.3704378\ttotal: 3.96s\tremaining: 30.2s\n",
      "58:\tlearn: 0.3699818\ttotal: 4.02s\tremaining: 30s\n",
      "59:\tlearn: 0.3696255\ttotal: 4.11s\tremaining: 30.1s\n",
      "60:\tlearn: 0.3692437\ttotal: 4.17s\tremaining: 30s\n",
      "61:\tlearn: 0.3686970\ttotal: 4.23s\tremaining: 29.9s\n",
      "62:\tlearn: 0.3680408\ttotal: 4.3s\tremaining: 29.9s\n",
      "63:\tlearn: 0.3670946\ttotal: 4.37s\tremaining: 29.8s\n",
      "64:\tlearn: 0.3666337\ttotal: 4.47s\tremaining: 29.9s\n",
      "65:\tlearn: 0.3658824\ttotal: 4.56s\tremaining: 30s\n",
      "66:\tlearn: 0.3654381\ttotal: 4.62s\tremaining: 29.9s\n",
      "67:\tlearn: 0.3652521\ttotal: 4.68s\tremaining: 29.8s\n",
      "68:\tlearn: 0.3645216\ttotal: 4.76s\tremaining: 29.7s\n",
      "69:\tlearn: 0.3641684\ttotal: 4.82s\tremaining: 29.6s\n",
      "70:\tlearn: 0.3638566\ttotal: 4.88s\tremaining: 29.5s\n",
      "71:\tlearn: 0.3634040\ttotal: 4.93s\tremaining: 29.3s\n",
      "72:\tlearn: 0.3630411\ttotal: 4.99s\tremaining: 29.2s\n",
      "73:\tlearn: 0.3624203\ttotal: 5.06s\tremaining: 29.1s\n",
      "74:\tlearn: 0.3621736\ttotal: 5.12s\tremaining: 29s\n",
      "75:\tlearn: 0.3617354\ttotal: 5.18s\tremaining: 28.9s\n",
      "76:\tlearn: 0.3611191\ttotal: 5.25s\tremaining: 28.8s\n",
      "77:\tlearn: 0.3604462\ttotal: 5.32s\tremaining: 28.8s\n",
      "78:\tlearn: 0.3600727\ttotal: 5.39s\tremaining: 28.7s\n",
      "79:\tlearn: 0.3597725\ttotal: 5.46s\tremaining: 28.7s\n",
      "80:\tlearn: 0.3594925\ttotal: 5.54s\tremaining: 28.7s\n",
      "81:\tlearn: 0.3587146\ttotal: 5.62s\tremaining: 28.6s\n",
      "82:\tlearn: 0.3585397\ttotal: 5.76s\tremaining: 28.9s\n",
      "83:\tlearn: 0.3582552\ttotal: 5.82s\tremaining: 28.8s\n",
      "84:\tlearn: 0.3578782\ttotal: 5.89s\tremaining: 28.8s\n",
      "85:\tlearn: 0.3577322\ttotal: 5.98s\tremaining: 28.8s\n",
      "86:\tlearn: 0.3575326\ttotal: 6.05s\tremaining: 28.7s\n",
      "87:\tlearn: 0.3568335\ttotal: 6.15s\tremaining: 28.8s\n",
      "88:\tlearn: 0.3566715\ttotal: 6.21s\tremaining: 28.7s\n",
      "89:\tlearn: 0.3562318\ttotal: 6.28s\tremaining: 28.6s\n",
      "90:\tlearn: 0.3560469\ttotal: 6.34s\tremaining: 28.5s\n",
      "91:\tlearn: 0.3558327\ttotal: 6.41s\tremaining: 28.4s\n",
      "92:\tlearn: 0.3550436\ttotal: 6.48s\tremaining: 28.4s\n",
      "93:\tlearn: 0.3545196\ttotal: 6.56s\tremaining: 28.3s\n",
      "94:\tlearn: 0.3543315\ttotal: 6.69s\tremaining: 28.5s\n",
      "95:\tlearn: 0.3541618\ttotal: 6.81s\tremaining: 28.6s\n",
      "96:\tlearn: 0.3538917\ttotal: 6.9s\tremaining: 28.7s\n",
      "97:\tlearn: 0.3537645\ttotal: 7.01s\tremaining: 28.8s\n",
      "98:\tlearn: 0.3533981\ttotal: 7.08s\tremaining: 28.7s\n",
      "99:\tlearn: 0.3527832\ttotal: 7.17s\tremaining: 28.7s\n",
      "100:\tlearn: 0.3526007\ttotal: 7.24s\tremaining: 28.6s\n",
      "101:\tlearn: 0.3524279\ttotal: 7.31s\tremaining: 28.5s\n",
      "102:\tlearn: 0.3519815\ttotal: 7.41s\tremaining: 28.6s\n",
      "103:\tlearn: 0.3514725\ttotal: 7.48s\tremaining: 28.5s\n",
      "104:\tlearn: 0.3510927\ttotal: 7.55s\tremaining: 28.4s\n",
      "105:\tlearn: 0.3508328\ttotal: 7.63s\tremaining: 28.4s\n",
      "106:\tlearn: 0.3504359\ttotal: 7.71s\tremaining: 28.3s\n",
      "107:\tlearn: 0.3500063\ttotal: 7.79s\tremaining: 28.3s\n",
      "108:\tlearn: 0.3497131\ttotal: 7.86s\tremaining: 28.2s\n",
      "109:\tlearn: 0.3493126\ttotal: 7.94s\tremaining: 28.2s\n",
      "110:\tlearn: 0.3487008\ttotal: 8.02s\tremaining: 28.1s\n",
      "111:\tlearn: 0.3483170\ttotal: 8.09s\tremaining: 28s\n",
      "112:\tlearn: 0.3480827\ttotal: 8.21s\tremaining: 28.1s\n",
      "113:\tlearn: 0.3477721\ttotal: 8.28s\tremaining: 28s\n",
      "114:\tlearn: 0.3474829\ttotal: 8.35s\tremaining: 28s\n",
      "115:\tlearn: 0.3470791\ttotal: 8.45s\tremaining: 28s\n",
      "116:\tlearn: 0.3465006\ttotal: 8.52s\tremaining: 27.9s\n",
      "117:\tlearn: 0.3462668\ttotal: 8.58s\tremaining: 27.8s\n",
      "118:\tlearn: 0.3458870\ttotal: 8.66s\tremaining: 27.7s\n",
      "119:\tlearn: 0.3456563\ttotal: 8.73s\tremaining: 27.7s\n",
      "120:\tlearn: 0.3454528\ttotal: 8.8s\tremaining: 27.6s\n",
      "121:\tlearn: 0.3452365\ttotal: 8.87s\tremaining: 27.5s\n",
      "122:\tlearn: 0.3449094\ttotal: 8.96s\tremaining: 27.4s\n",
      "123:\tlearn: 0.3446423\ttotal: 9.03s\tremaining: 27.4s\n",
      "124:\tlearn: 0.3444411\ttotal: 9.11s\tremaining: 27.3s\n",
      "125:\tlearn: 0.3443313\ttotal: 9.18s\tremaining: 27.2s\n",
      "126:\tlearn: 0.3438348\ttotal: 9.28s\tremaining: 27.3s\n",
      "127:\tlearn: 0.3435694\ttotal: 9.35s\tremaining: 27.2s\n",
      "128:\tlearn: 0.3432737\ttotal: 9.42s\tremaining: 27.1s\n",
      "129:\tlearn: 0.3430813\ttotal: 9.54s\tremaining: 27.1s\n",
      "130:\tlearn: 0.3429159\ttotal: 9.6s\tremaining: 27s\n",
      "131:\tlearn: 0.3427327\ttotal: 9.7s\tremaining: 27s\n",
      "132:\tlearn: 0.3424402\ttotal: 9.76s\tremaining: 26.9s\n",
      "133:\tlearn: 0.3423765\ttotal: 9.82s\tremaining: 26.8s\n",
      "134:\tlearn: 0.3421904\ttotal: 9.89s\tremaining: 26.8s\n",
      "135:\tlearn: 0.3420488\ttotal: 9.96s\tremaining: 26.6s\n",
      "136:\tlearn: 0.3413745\ttotal: 10.1s\tremaining: 26.7s\n",
      "137:\tlearn: 0.3412140\ttotal: 10.1s\tremaining: 26.6s\n",
      "138:\tlearn: 0.3410435\ttotal: 10.2s\tremaining: 26.5s\n",
      "139:\tlearn: 0.3409077\ttotal: 10.3s\tremaining: 26.4s\n",
      "140:\tlearn: 0.3407048\ttotal: 10.3s\tremaining: 26.3s\n",
      "141:\tlearn: 0.3400513\ttotal: 10.4s\tremaining: 26.2s\n",
      "142:\tlearn: 0.3395810\ttotal: 10.5s\tremaining: 26.2s\n",
      "143:\tlearn: 0.3394627\ttotal: 10.6s\tremaining: 26.1s\n",
      "144:\tlearn: 0.3392986\ttotal: 10.6s\tremaining: 26s\n",
      "145:\tlearn: 0.3392099\ttotal: 10.7s\tremaining: 25.9s\n",
      "146:\tlearn: 0.3390293\ttotal: 10.7s\tremaining: 25.8s\n",
      "147:\tlearn: 0.3389021\ttotal: 10.8s\tremaining: 25.7s\n",
      "148:\tlearn: 0.3386202\ttotal: 10.9s\tremaining: 25.6s\n",
      "149:\tlearn: 0.3384989\ttotal: 10.9s\tremaining: 25.5s\n",
      "150:\tlearn: 0.3383656\ttotal: 11s\tremaining: 25.4s\n",
      "151:\tlearn: 0.3382120\ttotal: 11.1s\tremaining: 25.3s\n",
      "152:\tlearn: 0.3380244\ttotal: 11.1s\tremaining: 25.2s\n",
      "153:\tlearn: 0.3378544\ttotal: 11.2s\tremaining: 25.1s\n",
      "154:\tlearn: 0.3377401\ttotal: 11.3s\tremaining: 25.1s\n",
      "155:\tlearn: 0.3373533\ttotal: 11.3s\tremaining: 25s\n",
      "156:\tlearn: 0.3370880\ttotal: 11.4s\tremaining: 24.9s\n",
      "157:\tlearn: 0.3368819\ttotal: 11.5s\tremaining: 24.9s\n",
      "158:\tlearn: 0.3368127\ttotal: 11.6s\tremaining: 24.8s\n",
      "159:\tlearn: 0.3364556\ttotal: 11.6s\tremaining: 24.7s\n",
      "160:\tlearn: 0.3362492\ttotal: 11.7s\tremaining: 24.6s\n"
     ]
    },
    {
     "name": "stdout",
     "output_type": "stream",
     "text": [
      "161:\tlearn: 0.3361648\ttotal: 11.7s\tremaining: 24.5s\n",
      "162:\tlearn: 0.3358914\ttotal: 11.8s\tremaining: 24.5s\n",
      "163:\tlearn: 0.3356163\ttotal: 11.9s\tremaining: 24.4s\n",
      "164:\tlearn: 0.3354185\ttotal: 12s\tremaining: 24.3s\n",
      "165:\tlearn: 0.3352301\ttotal: 12s\tremaining: 24.2s\n",
      "166:\tlearn: 0.3351572\ttotal: 12.1s\tremaining: 24.2s\n",
      "167:\tlearn: 0.3351550\ttotal: 12.2s\tremaining: 24.1s\n",
      "168:\tlearn: 0.3349595\ttotal: 12.3s\tremaining: 24.1s\n",
      "169:\tlearn: 0.3347873\ttotal: 12.4s\tremaining: 24s\n",
      "170:\tlearn: 0.3344671\ttotal: 12.4s\tremaining: 23.9s\n",
      "171:\tlearn: 0.3343586\ttotal: 12.5s\tremaining: 23.9s\n",
      "172:\tlearn: 0.3342886\ttotal: 12.6s\tremaining: 23.9s\n",
      "173:\tlearn: 0.3339907\ttotal: 12.7s\tremaining: 23.8s\n",
      "174:\tlearn: 0.3339287\ttotal: 12.8s\tremaining: 23.8s\n",
      "175:\tlearn: 0.3336981\ttotal: 12.9s\tremaining: 23.7s\n",
      "176:\tlearn: 0.3335384\ttotal: 12.9s\tremaining: 23.6s\n",
      "177:\tlearn: 0.3334947\ttotal: 13s\tremaining: 23.6s\n",
      "178:\tlearn: 0.3334071\ttotal: 13.1s\tremaining: 23.5s\n",
      "179:\tlearn: 0.3331547\ttotal: 13.2s\tremaining: 23.5s\n",
      "180:\tlearn: 0.3328309\ttotal: 13.3s\tremaining: 23.4s\n",
      "181:\tlearn: 0.3324457\ttotal: 13.3s\tremaining: 23.3s\n",
      "182:\tlearn: 0.3323175\ttotal: 13.4s\tremaining: 23.2s\n",
      "183:\tlearn: 0.3321302\ttotal: 13.5s\tremaining: 23.1s\n",
      "184:\tlearn: 0.3319868\ttotal: 13.5s\tremaining: 23s\n",
      "185:\tlearn: 0.3318915\ttotal: 13.6s\tremaining: 22.9s\n",
      "186:\tlearn: 0.3317512\ttotal: 13.7s\tremaining: 22.9s\n",
      "187:\tlearn: 0.3316570\ttotal: 13.7s\tremaining: 22.8s\n",
      "188:\tlearn: 0.3315991\ttotal: 13.8s\tremaining: 22.7s\n",
      "189:\tlearn: 0.3314266\ttotal: 13.9s\tremaining: 22.6s\n",
      "190:\tlearn: 0.3313257\ttotal: 13.9s\tremaining: 22.5s\n",
      "191:\tlearn: 0.3311350\ttotal: 14s\tremaining: 22.5s\n",
      "192:\tlearn: 0.3310390\ttotal: 14.1s\tremaining: 22.5s\n",
      "193:\tlearn: 0.3308915\ttotal: 14.2s\tremaining: 22.4s\n",
      "194:\tlearn: 0.3307741\ttotal: 14.2s\tremaining: 22.3s\n",
      "195:\tlearn: 0.3307033\ttotal: 14.3s\tremaining: 22.2s\n",
      "196:\tlearn: 0.3306512\ttotal: 14.4s\tremaining: 22.2s\n",
      "197:\tlearn: 0.3305617\ttotal: 14.5s\tremaining: 22.1s\n",
      "198:\tlearn: 0.3305077\ttotal: 14.6s\tremaining: 22.1s\n",
      "199:\tlearn: 0.3301828\ttotal: 14.7s\tremaining: 22s\n",
      "200:\tlearn: 0.3300213\ttotal: 14.8s\tremaining: 22s\n",
      "201:\tlearn: 0.3299539\ttotal: 14.9s\tremaining: 21.9s\n",
      "202:\tlearn: 0.3298092\ttotal: 14.9s\tremaining: 21.9s\n",
      "203:\tlearn: 0.3297594\ttotal: 15s\tremaining: 21.8s\n",
      "204:\tlearn: 0.3296484\ttotal: 15.1s\tremaining: 21.7s\n",
      "205:\tlearn: 0.3295293\ttotal: 15.2s\tremaining: 21.7s\n",
      "206:\tlearn: 0.3293493\ttotal: 15.3s\tremaining: 21.6s\n",
      "207:\tlearn: 0.3293167\ttotal: 15.3s\tremaining: 21.5s\n",
      "208:\tlearn: 0.3292093\ttotal: 15.4s\tremaining: 21.4s\n",
      "209:\tlearn: 0.3290917\ttotal: 15.5s\tremaining: 21.4s\n",
      "210:\tlearn: 0.3290630\ttotal: 15.5s\tremaining: 21.3s\n",
      "211:\tlearn: 0.3288024\ttotal: 15.6s\tremaining: 21.2s\n",
      "212:\tlearn: 0.3286526\ttotal: 15.7s\tremaining: 21.1s\n",
      "213:\tlearn: 0.3285473\ttotal: 15.8s\tremaining: 21.1s\n",
      "214:\tlearn: 0.3283961\ttotal: 15.8s\tremaining: 21s\n",
      "215:\tlearn: 0.3282098\ttotal: 15.9s\tremaining: 20.9s\n",
      "216:\tlearn: 0.3279893\ttotal: 16s\tremaining: 20.8s\n",
      "217:\tlearn: 0.3278927\ttotal: 16s\tremaining: 20.7s\n",
      "218:\tlearn: 0.3277797\ttotal: 16.1s\tremaining: 20.7s\n",
      "219:\tlearn: 0.3277209\ttotal: 16.2s\tremaining: 20.7s\n",
      "220:\tlearn: 0.3275665\ttotal: 16.3s\tremaining: 20.6s\n",
      "221:\tlearn: 0.3274708\ttotal: 16.4s\tremaining: 20.5s\n",
      "222:\tlearn: 0.3273289\ttotal: 16.5s\tremaining: 20.5s\n",
      "223:\tlearn: 0.3272738\ttotal: 16.6s\tremaining: 20.4s\n",
      "224:\tlearn: 0.3271704\ttotal: 16.6s\tremaining: 20.3s\n",
      "225:\tlearn: 0.3271142\ttotal: 16.7s\tremaining: 20.2s\n",
      "226:\tlearn: 0.3270448\ttotal: 16.8s\tremaining: 20.2s\n",
      "227:\tlearn: 0.3269241\ttotal: 16.9s\tremaining: 20.2s\n",
      "228:\tlearn: 0.3268733\ttotal: 17s\tremaining: 20.1s\n",
      "229:\tlearn: 0.3267772\ttotal: 17.1s\tremaining: 20s\n",
      "230:\tlearn: 0.3266452\ttotal: 17.1s\tremaining: 19.9s\n",
      "231:\tlearn: 0.3265679\ttotal: 17.2s\tremaining: 19.8s\n",
      "232:\tlearn: 0.3265064\ttotal: 17.2s\tremaining: 19.8s\n",
      "233:\tlearn: 0.3264785\ttotal: 17.3s\tremaining: 19.7s\n",
      "234:\tlearn: 0.3263875\ttotal: 17.4s\tremaining: 19.6s\n",
      "235:\tlearn: 0.3263369\ttotal: 17.5s\tremaining: 19.5s\n",
      "236:\tlearn: 0.3262496\ttotal: 17.5s\tremaining: 19.4s\n",
      "237:\tlearn: 0.3261515\ttotal: 17.6s\tremaining: 19.4s\n",
      "238:\tlearn: 0.3260958\ttotal: 17.7s\tremaining: 19.3s\n",
      "239:\tlearn: 0.3259163\ttotal: 17.7s\tremaining: 19.2s\n",
      "240:\tlearn: 0.3257668\ttotal: 17.8s\tremaining: 19.1s\n",
      "241:\tlearn: 0.3256880\ttotal: 17.9s\tremaining: 19.1s\n",
      "242:\tlearn: 0.3255179\ttotal: 18s\tremaining: 19s\n",
      "243:\tlearn: 0.3254343\ttotal: 18s\tremaining: 18.9s\n",
      "244:\tlearn: 0.3253828\ttotal: 18.1s\tremaining: 18.9s\n",
      "245:\tlearn: 0.3253307\ttotal: 18.2s\tremaining: 18.8s\n",
      "246:\tlearn: 0.3252691\ttotal: 18.3s\tremaining: 18.7s\n",
      "247:\tlearn: 0.3251724\ttotal: 18.3s\tremaining: 18.6s\n",
      "248:\tlearn: 0.3249392\ttotal: 18.4s\tremaining: 18.5s\n",
      "249:\tlearn: 0.3247392\ttotal: 18.5s\tremaining: 18.5s\n",
      "250:\tlearn: 0.3246922\ttotal: 18.5s\tremaining: 18.4s\n",
      "251:\tlearn: 0.3245810\ttotal: 18.6s\tremaining: 18.3s\n",
      "252:\tlearn: 0.3245057\ttotal: 18.6s\tremaining: 18.2s\n",
      "253:\tlearn: 0.3244582\ttotal: 18.7s\tremaining: 18.1s\n",
      "254:\tlearn: 0.3243553\ttotal: 18.8s\tremaining: 18s\n",
      "255:\tlearn: 0.3242208\ttotal: 18.9s\tremaining: 18s\n",
      "256:\tlearn: 0.3241773\ttotal: 18.9s\tremaining: 17.9s\n",
      "257:\tlearn: 0.3241034\ttotal: 19s\tremaining: 17.8s\n",
      "258:\tlearn: 0.3239989\ttotal: 19.1s\tremaining: 17.7s\n",
      "259:\tlearn: 0.3239439\ttotal: 19.1s\tremaining: 17.7s\n",
      "260:\tlearn: 0.3238044\ttotal: 19.2s\tremaining: 17.6s\n",
      "261:\tlearn: 0.3236869\ttotal: 19.2s\tremaining: 17.5s\n",
      "262:\tlearn: 0.3236542\ttotal: 19.3s\tremaining: 17.4s\n",
      "263:\tlearn: 0.3235992\ttotal: 19.4s\tremaining: 17.3s\n",
      "264:\tlearn: 0.3235339\ttotal: 19.4s\tremaining: 17.2s\n",
      "265:\tlearn: 0.3232581\ttotal: 19.5s\tremaining: 17.2s\n",
      "266:\tlearn: 0.3231278\ttotal: 19.6s\tremaining: 17.1s\n",
      "267:\tlearn: 0.3231262\ttotal: 19.6s\tremaining: 17s\n",
      "268:\tlearn: 0.3229593\ttotal: 19.7s\tremaining: 16.9s\n",
      "269:\tlearn: 0.3227235\ttotal: 19.8s\tremaining: 16.8s\n",
      "270:\tlearn: 0.3224845\ttotal: 19.8s\tremaining: 16.8s\n",
      "271:\tlearn: 0.3223509\ttotal: 20s\tremaining: 16.8s\n",
      "272:\tlearn: 0.3222552\ttotal: 20.1s\tremaining: 16.7s\n",
      "273:\tlearn: 0.3220989\ttotal: 20.2s\tremaining: 16.7s\n",
      "274:\tlearn: 0.3220078\ttotal: 20.4s\tremaining: 16.7s\n",
      "275:\tlearn: 0.3218835\ttotal: 20.5s\tremaining: 16.6s\n",
      "276:\tlearn: 0.3216801\ttotal: 20.6s\tremaining: 16.6s\n",
      "277:\tlearn: 0.3216514\ttotal: 20.7s\tremaining: 16.6s\n",
      "278:\tlearn: 0.3216240\ttotal: 20.9s\tremaining: 16.5s\n",
      "279:\tlearn: 0.3214701\ttotal: 21s\tremaining: 16.5s\n",
      "280:\tlearn: 0.3213433\ttotal: 21.2s\tremaining: 16.5s\n",
      "281:\tlearn: 0.3212474\ttotal: 21.3s\tremaining: 16.5s\n",
      "282:\tlearn: 0.3211021\ttotal: 21.4s\tremaining: 16.4s\n",
      "283:\tlearn: 0.3210083\ttotal: 21.4s\tremaining: 16.3s\n",
      "284:\tlearn: 0.3209514\ttotal: 21.5s\tremaining: 16.2s\n",
      "285:\tlearn: 0.3209003\ttotal: 21.5s\tremaining: 16.1s\n",
      "286:\tlearn: 0.3208429\ttotal: 21.6s\tremaining: 16s\n",
      "287:\tlearn: 0.3207691\ttotal: 21.7s\tremaining: 15.9s\n",
      "288:\tlearn: 0.3206115\ttotal: 21.7s\tremaining: 15.9s\n",
      "289:\tlearn: 0.3205547\ttotal: 21.8s\tremaining: 15.8s\n",
      "290:\tlearn: 0.3204974\ttotal: 21.9s\tremaining: 15.7s\n",
      "291:\tlearn: 0.3203697\ttotal: 21.9s\tremaining: 15.6s\n",
      "292:\tlearn: 0.3201008\ttotal: 22s\tremaining: 15.6s\n",
      "293:\tlearn: 0.3200017\ttotal: 22.1s\tremaining: 15.5s\n",
      "294:\tlearn: 0.3199661\ttotal: 22.1s\tremaining: 15.4s\n",
      "295:\tlearn: 0.3198632\ttotal: 22.2s\tremaining: 15.3s\n",
      "296:\tlearn: 0.3197898\ttotal: 22.3s\tremaining: 15.3s\n",
      "297:\tlearn: 0.3196467\ttotal: 22.4s\tremaining: 15.2s\n",
      "298:\tlearn: 0.3195971\ttotal: 22.4s\tremaining: 15.1s\n",
      "299:\tlearn: 0.3195178\ttotal: 22.5s\tremaining: 15s\n",
      "300:\tlearn: 0.3194263\ttotal: 22.6s\tremaining: 14.9s\n",
      "301:\tlearn: 0.3192362\ttotal: 22.7s\tremaining: 14.9s\n",
      "302:\tlearn: 0.3190530\ttotal: 22.7s\tremaining: 14.8s\n",
      "303:\tlearn: 0.3190464\ttotal: 22.8s\tremaining: 14.7s\n",
      "304:\tlearn: 0.3189132\ttotal: 23s\tremaining: 14.7s\n",
      "305:\tlearn: 0.3187868\ttotal: 23.1s\tremaining: 14.6s\n",
      "306:\tlearn: 0.3187429\ttotal: 23.2s\tremaining: 14.6s\n",
      "307:\tlearn: 0.3186367\ttotal: 23.3s\tremaining: 14.5s\n",
      "308:\tlearn: 0.3184908\ttotal: 23.5s\tremaining: 14.5s\n",
      "309:\tlearn: 0.3184391\ttotal: 23.6s\tremaining: 14.5s\n",
      "310:\tlearn: 0.3184008\ttotal: 23.8s\tremaining: 14.4s\n",
      "311:\tlearn: 0.3183416\ttotal: 23.9s\tremaining: 14.4s\n",
      "312:\tlearn: 0.3182731\ttotal: 24s\tremaining: 14.3s\n",
      "313:\tlearn: 0.3182128\ttotal: 24.1s\tremaining: 14.3s\n",
      "314:\tlearn: 0.3180680\ttotal: 24.3s\tremaining: 14.2s\n",
      "315:\tlearn: 0.3180182\ttotal: 24.4s\tremaining: 14.2s\n",
      "316:\tlearn: 0.3179323\ttotal: 24.4s\tremaining: 14.1s\n",
      "317:\tlearn: 0.3178600\ttotal: 24.5s\tremaining: 14s\n",
      "318:\tlearn: 0.3177894\ttotal: 24.5s\tremaining: 13.9s\n",
      "319:\tlearn: 0.3177876\ttotal: 24.6s\tremaining: 13.8s\n",
      "320:\tlearn: 0.3176709\ttotal: 24.6s\tremaining: 13.7s\n"
     ]
    },
    {
     "name": "stdout",
     "output_type": "stream",
     "text": [
      "321:\tlearn: 0.3175158\ttotal: 24.7s\tremaining: 13.7s\n",
      "322:\tlearn: 0.3174274\ttotal: 24.8s\tremaining: 13.6s\n",
      "323:\tlearn: 0.3173481\ttotal: 24.9s\tremaining: 13.5s\n",
      "324:\tlearn: 0.3172868\ttotal: 24.9s\tremaining: 13.4s\n",
      "325:\tlearn: 0.3170901\ttotal: 25s\tremaining: 13.3s\n",
      "326:\tlearn: 0.3170300\ttotal: 25.1s\tremaining: 13.3s\n",
      "327:\tlearn: 0.3169702\ttotal: 25.1s\tremaining: 13.2s\n",
      "328:\tlearn: 0.3168851\ttotal: 25.2s\tremaining: 13.1s\n",
      "329:\tlearn: 0.3166838\ttotal: 25.3s\tremaining: 13s\n",
      "330:\tlearn: 0.3165109\ttotal: 25.3s\tremaining: 12.9s\n",
      "331:\tlearn: 0.3164517\ttotal: 25.4s\tremaining: 12.8s\n",
      "332:\tlearn: 0.3159981\ttotal: 25.5s\tremaining: 12.8s\n",
      "333:\tlearn: 0.3158876\ttotal: 25.5s\tremaining: 12.7s\n",
      "334:\tlearn: 0.3157531\ttotal: 25.6s\tremaining: 12.6s\n",
      "335:\tlearn: 0.3157047\ttotal: 25.6s\tremaining: 12.5s\n",
      "336:\tlearn: 0.3156232\ttotal: 25.7s\tremaining: 12.4s\n",
      "337:\tlearn: 0.3155034\ttotal: 25.8s\tremaining: 12.3s\n",
      "338:\tlearn: 0.3154213\ttotal: 25.8s\tremaining: 12.3s\n",
      "339:\tlearn: 0.3153024\ttotal: 25.9s\tremaining: 12.2s\n",
      "340:\tlearn: 0.3152566\ttotal: 26s\tremaining: 12.1s\n",
      "341:\tlearn: 0.3152027\ttotal: 26.1s\tremaining: 12s\n",
      "342:\tlearn: 0.3151106\ttotal: 26.1s\tremaining: 12s\n",
      "343:\tlearn: 0.3150555\ttotal: 26.2s\tremaining: 11.9s\n",
      "344:\tlearn: 0.3150131\ttotal: 26.3s\tremaining: 11.8s\n",
      "345:\tlearn: 0.3148271\ttotal: 26.4s\tremaining: 11.7s\n",
      "346:\tlearn: 0.3147793\ttotal: 26.5s\tremaining: 11.7s\n",
      "347:\tlearn: 0.3147275\ttotal: 26.5s\tremaining: 11.6s\n",
      "348:\tlearn: 0.3146717\ttotal: 26.6s\tremaining: 11.5s\n",
      "349:\tlearn: 0.3145527\ttotal: 26.7s\tremaining: 11.4s\n",
      "350:\tlearn: 0.3145096\ttotal: 26.8s\tremaining: 11.4s\n",
      "351:\tlearn: 0.3143987\ttotal: 26.8s\tremaining: 11.3s\n",
      "352:\tlearn: 0.3142906\ttotal: 26.9s\tremaining: 11.2s\n",
      "353:\tlearn: 0.3142493\ttotal: 26.9s\tremaining: 11.1s\n",
      "354:\tlearn: 0.3141275\ttotal: 27s\tremaining: 11s\n",
      "355:\tlearn: 0.3140395\ttotal: 27.1s\tremaining: 11s\n",
      "356:\tlearn: 0.3139830\ttotal: 27.1s\tremaining: 10.9s\n",
      "357:\tlearn: 0.3138767\ttotal: 27.2s\tremaining: 10.8s\n",
      "358:\tlearn: 0.3138200\ttotal: 27.3s\tremaining: 10.7s\n",
      "359:\tlearn: 0.3137869\ttotal: 27.4s\tremaining: 10.6s\n",
      "360:\tlearn: 0.3137310\ttotal: 27.4s\tremaining: 10.6s\n",
      "361:\tlearn: 0.3136687\ttotal: 27.5s\tremaining: 10.5s\n",
      "362:\tlearn: 0.3135996\ttotal: 27.6s\tremaining: 10.4s\n",
      "363:\tlearn: 0.3134561\ttotal: 27.6s\tremaining: 10.3s\n",
      "364:\tlearn: 0.3132755\ttotal: 27.7s\tremaining: 10.3s\n",
      "365:\tlearn: 0.3132254\ttotal: 27.8s\tremaining: 10.2s\n",
      "366:\tlearn: 0.3130957\ttotal: 27.9s\tremaining: 10.1s\n",
      "367:\tlearn: 0.3129966\ttotal: 28s\tremaining: 10s\n",
      "368:\tlearn: 0.3129316\ttotal: 28s\tremaining: 9.96s\n",
      "369:\tlearn: 0.3127884\ttotal: 28.1s\tremaining: 9.88s\n",
      "370:\tlearn: 0.3127068\ttotal: 28.2s\tremaining: 9.81s\n",
      "371:\tlearn: 0.3124546\ttotal: 28.3s\tremaining: 9.73s\n",
      "372:\tlearn: 0.3124090\ttotal: 28.4s\tremaining: 9.66s\n",
      "373:\tlearn: 0.3123714\ttotal: 28.5s\tremaining: 9.59s\n",
      "374:\tlearn: 0.3122750\ttotal: 28.5s\tremaining: 9.51s\n",
      "375:\tlearn: 0.3121896\ttotal: 28.6s\tremaining: 9.43s\n",
      "376:\tlearn: 0.3121536\ttotal: 28.7s\tremaining: 9.36s\n",
      "377:\tlearn: 0.3121378\ttotal: 28.8s\tremaining: 9.29s\n",
      "378:\tlearn: 0.3120701\ttotal: 28.8s\tremaining: 9.2s\n",
      "379:\tlearn: 0.3119646\ttotal: 28.9s\tremaining: 9.12s\n",
      "380:\tlearn: 0.3119327\ttotal: 28.9s\tremaining: 9.04s\n",
      "381:\tlearn: 0.3118401\ttotal: 29s\tremaining: 8.97s\n",
      "382:\tlearn: 0.3118018\ttotal: 29.1s\tremaining: 8.89s\n",
      "383:\tlearn: 0.3117644\ttotal: 29.2s\tremaining: 8.81s\n",
      "384:\tlearn: 0.3116853\ttotal: 29.3s\tremaining: 8.74s\n",
      "385:\tlearn: 0.3116239\ttotal: 29.3s\tremaining: 8.66s\n",
      "386:\tlearn: 0.3115103\ttotal: 29.4s\tremaining: 8.58s\n",
      "387:\tlearn: 0.3114404\ttotal: 29.5s\tremaining: 8.51s\n",
      "388:\tlearn: 0.3112853\ttotal: 29.6s\tremaining: 8.43s\n",
      "389:\tlearn: 0.3112183\ttotal: 29.6s\tremaining: 8.36s\n",
      "390:\tlearn: 0.3111579\ttotal: 29.7s\tremaining: 8.28s\n",
      "391:\tlearn: 0.3110648\ttotal: 29.8s\tremaining: 8.21s\n",
      "392:\tlearn: 0.3110211\ttotal: 29.9s\tremaining: 8.13s\n",
      "393:\tlearn: 0.3109661\ttotal: 29.9s\tremaining: 8.05s\n",
      "394:\tlearn: 0.3108908\ttotal: 30s\tremaining: 7.98s\n",
      "395:\tlearn: 0.3107745\ttotal: 30.1s\tremaining: 7.91s\n",
      "396:\tlearn: 0.3106761\ttotal: 30.2s\tremaining: 7.83s\n",
      "397:\tlearn: 0.3106037\ttotal: 30.3s\tremaining: 7.76s\n",
      "398:\tlearn: 0.3105132\ttotal: 30.4s\tremaining: 7.69s\n",
      "399:\tlearn: 0.3102277\ttotal: 30.5s\tremaining: 7.62s\n",
      "400:\tlearn: 0.3101206\ttotal: 30.6s\tremaining: 7.56s\n",
      "401:\tlearn: 0.3100001\ttotal: 30.7s\tremaining: 7.48s\n",
      "402:\tlearn: 0.3099305\ttotal: 30.8s\tremaining: 7.41s\n",
      "403:\tlearn: 0.3098742\ttotal: 30.9s\tremaining: 7.33s\n",
      "404:\tlearn: 0.3097919\ttotal: 30.9s\tremaining: 7.25s\n",
      "405:\tlearn: 0.3097645\ttotal: 31s\tremaining: 7.17s\n",
      "406:\tlearn: 0.3096613\ttotal: 31.1s\tremaining: 7.1s\n",
      "407:\tlearn: 0.3095677\ttotal: 31.1s\tremaining: 7.02s\n",
      "408:\tlearn: 0.3095132\ttotal: 31.2s\tremaining: 6.94s\n",
      "409:\tlearn: 0.3092512\ttotal: 31.3s\tremaining: 6.86s\n",
      "410:\tlearn: 0.3091676\ttotal: 31.3s\tremaining: 6.79s\n",
      "411:\tlearn: 0.3091421\ttotal: 31.4s\tremaining: 6.71s\n",
      "412:\tlearn: 0.3090546\ttotal: 31.5s\tremaining: 6.63s\n",
      "413:\tlearn: 0.3090546\ttotal: 31.6s\tremaining: 6.55s\n",
      "414:\tlearn: 0.3089629\ttotal: 31.6s\tremaining: 6.48s\n",
      "415:\tlearn: 0.3088781\ttotal: 31.7s\tremaining: 6.4s\n",
      "416:\tlearn: 0.3087701\ttotal: 31.8s\tremaining: 6.33s\n",
      "417:\tlearn: 0.3087238\ttotal: 31.9s\tremaining: 6.25s\n",
      "418:\tlearn: 0.3086570\ttotal: 32s\tremaining: 6.18s\n",
      "419:\tlearn: 0.3085077\ttotal: 32s\tremaining: 6.1s\n",
      "420:\tlearn: 0.3084357\ttotal: 32.1s\tremaining: 6.03s\n",
      "421:\tlearn: 0.3083692\ttotal: 32.2s\tremaining: 5.95s\n",
      "422:\tlearn: 0.3081806\ttotal: 32.3s\tremaining: 5.87s\n",
      "423:\tlearn: 0.3081498\ttotal: 32.3s\tremaining: 5.8s\n",
      "424:\tlearn: 0.3080471\ttotal: 32.4s\tremaining: 5.72s\n",
      "425:\tlearn: 0.3080123\ttotal: 32.5s\tremaining: 5.64s\n",
      "426:\tlearn: 0.3079096\ttotal: 32.6s\tremaining: 5.57s\n",
      "427:\tlearn: 0.3078582\ttotal: 32.6s\tremaining: 5.49s\n",
      "428:\tlearn: 0.3078198\ttotal: 32.7s\tremaining: 5.41s\n",
      "429:\tlearn: 0.3077178\ttotal: 32.8s\tremaining: 5.33s\n",
      "430:\tlearn: 0.3076644\ttotal: 32.8s\tremaining: 5.26s\n",
      "431:\tlearn: 0.3076309\ttotal: 32.9s\tremaining: 5.18s\n",
      "432:\tlearn: 0.3075587\ttotal: 33s\tremaining: 5.11s\n",
      "433:\tlearn: 0.3074837\ttotal: 33.1s\tremaining: 5.03s\n",
      "434:\tlearn: 0.3074578\ttotal: 33.2s\tremaining: 4.96s\n",
      "435:\tlearn: 0.3073997\ttotal: 33.3s\tremaining: 4.88s\n",
      "436:\tlearn: 0.3073457\ttotal: 33.3s\tremaining: 4.8s\n",
      "437:\tlearn: 0.3072716\ttotal: 33.4s\tremaining: 4.73s\n",
      "438:\tlearn: 0.3072629\ttotal: 33.5s\tremaining: 4.65s\n",
      "439:\tlearn: 0.3072258\ttotal: 33.6s\tremaining: 4.58s\n",
      "440:\tlearn: 0.3071708\ttotal: 33.6s\tremaining: 4.5s\n",
      "441:\tlearn: 0.3070667\ttotal: 33.7s\tremaining: 4.42s\n",
      "442:\tlearn: 0.3069439\ttotal: 33.8s\tremaining: 4.35s\n",
      "443:\tlearn: 0.3068559\ttotal: 33.9s\tremaining: 4.27s\n",
      "444:\tlearn: 0.3067998\ttotal: 34s\tremaining: 4.2s\n",
      "445:\tlearn: 0.3067535\ttotal: 34.1s\tremaining: 4.13s\n",
      "446:\tlearn: 0.3066906\ttotal: 34.2s\tremaining: 4.05s\n",
      "447:\tlearn: 0.3066274\ttotal: 34.2s\tremaining: 3.97s\n",
      "448:\tlearn: 0.3065467\ttotal: 34.3s\tremaining: 3.9s\n",
      "449:\tlearn: 0.3065154\ttotal: 34.4s\tremaining: 3.82s\n",
      "450:\tlearn: 0.3064560\ttotal: 34.4s\tremaining: 3.74s\n",
      "451:\tlearn: 0.3063659\ttotal: 34.5s\tremaining: 3.67s\n",
      "452:\tlearn: 0.3063399\ttotal: 34.6s\tremaining: 3.59s\n",
      "453:\tlearn: 0.3063075\ttotal: 34.7s\tremaining: 3.51s\n",
      "454:\tlearn: 0.3062637\ttotal: 34.7s\tremaining: 3.44s\n",
      "455:\tlearn: 0.3061738\ttotal: 34.8s\tremaining: 3.36s\n",
      "456:\tlearn: 0.3061139\ttotal: 34.9s\tremaining: 3.28s\n",
      "457:\tlearn: 0.3060216\ttotal: 34.9s\tremaining: 3.2s\n",
      "458:\tlearn: 0.3059026\ttotal: 35s\tremaining: 3.13s\n",
      "459:\tlearn: 0.3058735\ttotal: 35.1s\tremaining: 3.05s\n",
      "460:\tlearn: 0.3056087\ttotal: 35.1s\tremaining: 2.97s\n",
      "461:\tlearn: 0.3055813\ttotal: 35.2s\tremaining: 2.9s\n",
      "462:\tlearn: 0.3055469\ttotal: 35.3s\tremaining: 2.82s\n",
      "463:\tlearn: 0.3054963\ttotal: 35.4s\tremaining: 2.74s\n",
      "464:\tlearn: 0.3053741\ttotal: 35.4s\tremaining: 2.67s\n",
      "465:\tlearn: 0.3053167\ttotal: 35.5s\tremaining: 2.59s\n",
      "466:\tlearn: 0.3052697\ttotal: 35.6s\tremaining: 2.51s\n",
      "467:\tlearn: 0.3052080\ttotal: 35.6s\tremaining: 2.44s\n",
      "468:\tlearn: 0.3051703\ttotal: 35.7s\tremaining: 2.36s\n",
      "469:\tlearn: 0.3051421\ttotal: 35.8s\tremaining: 2.28s\n",
      "470:\tlearn: 0.3051235\ttotal: 35.8s\tremaining: 2.21s\n",
      "471:\tlearn: 0.3050947\ttotal: 35.9s\tremaining: 2.13s\n",
      "472:\tlearn: 0.3050375\ttotal: 36s\tremaining: 2.05s\n",
      "473:\tlearn: 0.3050021\ttotal: 36s\tremaining: 1.98s\n",
      "474:\tlearn: 0.3049869\ttotal: 36.1s\tremaining: 1.9s\n",
      "475:\tlearn: 0.3049280\ttotal: 36.2s\tremaining: 1.82s\n",
      "476:\tlearn: 0.3048071\ttotal: 36.3s\tremaining: 1.75s\n",
      "477:\tlearn: 0.3047338\ttotal: 36.4s\tremaining: 1.67s\n",
      "478:\tlearn: 0.3046504\ttotal: 36.4s\tremaining: 1.6s\n",
      "479:\tlearn: 0.3045689\ttotal: 36.5s\tremaining: 1.52s\n",
      "480:\tlearn: 0.3043818\ttotal: 36.6s\tremaining: 1.44s\n",
      "481:\tlearn: 0.3043474\ttotal: 36.6s\tremaining: 1.37s\n",
      "482:\tlearn: 0.3043213\ttotal: 36.7s\tremaining: 1.29s\n"
     ]
    },
    {
     "name": "stdout",
     "output_type": "stream",
     "text": [
      "483:\tlearn: 0.3042968\ttotal: 36.8s\tremaining: 1.22s\n",
      "484:\tlearn: 0.3042809\ttotal: 36.8s\tremaining: 1.14s\n",
      "485:\tlearn: 0.3040164\ttotal: 36.9s\tremaining: 1.06s\n",
      "486:\tlearn: 0.3038207\ttotal: 37s\tremaining: 988ms\n",
      "487:\tlearn: 0.3037433\ttotal: 37.1s\tremaining: 912ms\n",
      "488:\tlearn: 0.3036468\ttotal: 37.2s\tremaining: 836ms\n",
      "489:\tlearn: 0.3036405\ttotal: 37.3s\tremaining: 760ms\n",
      "490:\tlearn: 0.3035974\ttotal: 37.3s\tremaining: 684ms\n",
      "491:\tlearn: 0.3035054\ttotal: 37.4s\tremaining: 608ms\n",
      "492:\tlearn: 0.3034970\ttotal: 37.4s\tremaining: 532ms\n",
      "493:\tlearn: 0.3033780\ttotal: 37.5s\tremaining: 456ms\n",
      "494:\tlearn: 0.3032980\ttotal: 37.6s\tremaining: 380ms\n",
      "495:\tlearn: 0.3032691\ttotal: 37.7s\tremaining: 304ms\n",
      "496:\tlearn: 0.3032456\ttotal: 37.8s\tremaining: 228ms\n",
      "497:\tlearn: 0.3031415\ttotal: 37.8s\tremaining: 152ms\n",
      "498:\tlearn: 0.3030646\ttotal: 37.9s\tremaining: 76ms\n",
      "499:\tlearn: 0.3030399\ttotal: 38s\tremaining: 0us\n"
     ]
    },
    {
     "data": {
      "text/plain": [
       "<catboost.core.CatBoostClassifier at 0x28e97908460>"
      ]
     },
     "execution_count": 84,
     "metadata": {},
     "output_type": "execute_result"
    }
   ],
   "source": [
    "from catboost import CatBoostClassifier\n",
    "model= CatBoostClassifier(iterations=500,\n",
    "                                   task_type=\"CPU\",\n",
    "                                   devices='0:1', cat_features=categorical_features_indices)\n",
    "model.fit(X_train,y_train,verbose=True)"
   ]
  },
  {
   "cell_type": "code",
   "execution_count": 85,
   "id": "4965c701",
   "metadata": {},
   "outputs": [],
   "source": [
    "prediction = model.predict(X_test)"
   ]
  },
  {
   "cell_type": "code",
   "execution_count": 86,
   "id": "22e0798a",
   "metadata": {},
   "outputs": [],
   "source": [
    "from sklearn.metrics import f1_score, classification_report, confusion_matrix, recall_score, precision_score, accuracy_score "
   ]
  },
  {
   "cell_type": "code",
   "execution_count": 87,
   "id": "77c309e7",
   "metadata": {},
   "outputs": [
    {
     "name": "stdout",
     "output_type": "stream",
     "text": [
      "              precision    recall  f1-score   support\n",
      "\n",
      "           0      0.843     0.825     0.834     19791\n",
      "           1      0.852     0.868     0.860     23017\n",
      "\n",
      "    accuracy                          0.848     42808\n",
      "   macro avg      0.848     0.846     0.847     42808\n",
      "weighted avg      0.848     0.848     0.848     42808\n",
      "\n"
     ]
    }
   ],
   "source": [
    "print(classification_report(y_test, prediction, digits=3))"
   ]
  },
  {
   "cell_type": "code",
   "execution_count": 88,
   "id": "6fdcb471",
   "metadata": {},
   "outputs": [],
   "source": [
    "from sklearn.metrics import plot_confusion_matrix\n",
    "import matplotlib.pyplot as plt"
   ]
  },
  {
   "cell_type": "code",
   "execution_count": 89,
   "id": "3d99a339",
   "metadata": {},
   "outputs": [
    {
     "name": "stderr",
     "output_type": "stream",
     "text": [
      "C:\\Users\\Sajiah Naqib\\anaconda3\\envs\\adm\\lib\\site-packages\\sklearn\\utils\\deprecation.py:87: FutureWarning: Function plot_confusion_matrix is deprecated; Function `plot_confusion_matrix` is deprecated in 1.0 and will be removed in 1.2. Use one of the class methods: ConfusionMatrixDisplay.from_predictions or ConfusionMatrixDisplay.from_estimator.\n",
      "  warnings.warn(msg, category=FutureWarning)\n"
     ]
    },
    {
     "data": {
      "image/png": "[encoded data removed]",
      "text/plain": [
       "<Figure size 864x864 with 2 Axes>"
      ]
     },
     "metadata": {
      "needs_background": "light"
     },
     "output_type": "display_data"
    }
   ],
   "source": [
    "fig, ax = plt.subplots(figsize=(12, 12))\n",
    "plot_confusion_matrix(model, X_test, y_test, ax=ax)\n",
    "plt.title('Confusion matrix of the Catboost classifier')\n",
    "plt.show()"
   ]
  },
  {
   "cell_type": "markdown",
   "id": "c0468673",
   "metadata": {},
   "source": [
    "# Second Classification Algorithm is Linear Support Vector Classification"
   ]
  },
  {
   "cell_type": "code",
   "execution_count": 90,
   "id": "33316d0b",
   "metadata": {},
   "outputs": [],
   "source": [
    "from sklearn.svm import LinearSVC\n",
    "from sklearn.pipeline import make_pipeline\n",
    "from sklearn.preprocessing import StandardScaler"
   ]
  },
  {
   "cell_type": "code",
   "execution_count": 91,
   "id": "7c9a5eb3",
   "metadata": {},
   "outputs": [],
   "source": [
    "X_svm_lr = pd.get_dummies(asylum_seekers_processed.drop('Rejected(Y/N)', axis = 1))\n",
    "y_svm_lr = asylum_seekers_processed['Rejected(Y/N)']"
   ]
  },
  {
   "cell_type": "code",
   "execution_count": 92,
   "id": "b3f23344",
   "metadata": {},
   "outputs": [],
   "source": [
    "X_train, X_test, y_train, y_test = train_test_split(X_svm_lr, y_svm_lr, test_size=0.33, random_state=42)"
   ]
  },
  {
   "cell_type": "code",
   "execution_count": 93,
   "id": "9c8f5e4f",
   "metadata": {},
   "outputs": [],
   "source": [
    "scaler = StandardScaler()\n",
    "X_train = scaler.fit_transform(X_train)\n",
    "X_test = scaler.fit_transform(X_test)"
   ]
  },
  {
   "cell_type": "code",
   "execution_count": 94,
   "id": "f073cb14",
   "metadata": {},
   "outputs": [
    {
     "data": {
      "text/html": [
       "<style>#sk-container-id-4 {color: black;background-color: white;}#sk-container-id-4 pre{padding: 0;}#sk-container-id-4 div.sk-toggleable {background-color: white;}#sk-container-id-4 label.sk-toggleable__label {cursor: pointer;display: block;width: 100%;margin-bottom: 0;padding: 0.3em;box-sizing: border-box;text-align: center;}#sk-container-id-4 label.sk-toggleable__label-arrow:before {content: \"▸\";float: left;margin-right: 0.25em;color: #696969;}#sk-container-id-4 label.sk-toggleable__label-arrow:hover:before {color: black;}#sk-container-id-4 div.sk-estimator:hover label.sk-toggleable__label-arrow:before {color: black;}#sk-container-id-4 div.sk-toggleable__content {max-height: 0;max-width: 0;overflow: hidden;text-align: left;background-color: #f0f8ff;}#sk-container-id-4 div.sk-toggleable__content pre {margin: 0.2em;color: black;border-radius: 0.25em;background-color: #f0f8ff;}#sk-container-id-4 input.sk-toggleable__control:checked~div.sk-toggleable__content {max-height: 200px;max-width: 100%;overflow: auto;}#sk-container-id-4 input.sk-toggleable__control:checked~label.sk-toggleable__label-arrow:before {content: \"▾\";}#sk-container-id-4 div.sk-estimator input.sk-toggleable__control:checked~label.sk-toggleable__label {background-color: #d4ebff;}#sk-container-id-4 div.sk-label input.sk-toggleable__control:checked~label.sk-toggleable__label {background-color: #d4ebff;}#sk-container-id-4 input.sk-hidden--visually {border: 0;clip: rect(1px 1px 1px 1px);clip: rect(1px, 1px, 1px, 1px);height: 1px;margin: -1px;overflow: hidden;padding: 0;position: absolute;width: 1px;}#sk-container-id-4 div.sk-estimator {font-family: monospace;background-color: #f0f8ff;border: 1px dotted black;border-radius: 0.25em;box-sizing: border-box;margin-bottom: 0.5em;}#sk-container-id-4 div.sk-estimator:hover {background-color: #d4ebff;}#sk-container-id-4 div.sk-parallel-item::after {content: \"\";width: 100%;border-bottom: 1px solid gray;flex-grow: 1;}#sk-container-id-4 div.sk-label:hover label.sk-toggleable__label {background-color: #d4ebff;}#sk-container-id-4 div.sk-serial::before {content: \"\";position: absolute;border-left: 1px solid gray;box-sizing: border-box;top: 0;bottom: 0;left: 50%;z-index: 0;}#sk-container-id-4 div.sk-serial {display: flex;flex-direction: column;align-items: center;background-color: white;padding-right: 0.2em;padding-left: 0.2em;position: relative;}#sk-container-id-4 div.sk-item {position: relative;z-index: 1;}#sk-container-id-4 div.sk-parallel {display: flex;align-items: stretch;justify-content: center;background-color: white;position: relative;}#sk-container-id-4 div.sk-item::before, #sk-container-id-4 div.sk-parallel-item::before {content: \"\";position: absolute;border-left: 1px solid gray;box-sizing: border-box;top: 0;bottom: 0;left: 50%;z-index: -1;}#sk-container-id-4 div.sk-parallel-item {display: flex;flex-direction: column;z-index: 1;position: relative;background-color: white;}#sk-container-id-4 div.sk-parallel-item:first-child::after {align-self: flex-end;width: 50%;}#sk-container-id-4 div.sk-parallel-item:last-child::after {align-self: flex-start;width: 50%;}#sk-container-id-4 div.sk-parallel-item:only-child::after {width: 0;}#sk-container-id-4 div.sk-dashed-wrapped {border: 1px dashed gray;margin: 0 0.4em 0.5em 0.4em;box-sizing: border-box;padding-bottom: 0.4em;background-color: white;}#sk-container-id-4 div.sk-label label {font-family: monospace;font-weight: bold;display: inline-block;line-height: 1.2em;}#sk-container-id-4 div.sk-label-container {text-align: center;}#sk-container-id-4 div.sk-container {/* jupyter's `normalize.less` sets `[hidden] { display: none; }` but bootstrap.min.css set `[hidden] { display: none !important; }` so we also need the `!important` here to be able to override the default hidden behavior on the sphinx rendered scikit-learn.org. See: https://github.com/scikit-learn/scikit-learn/issues/21755 */display: inline-block !important;position: relative;}#sk-container-id-4 div.sk-text-repr-fallback {display: none;}</style><div id=\"sk-container-id-4\" class=\"sk-top-container\"><div class=\"sk-text-repr-fallback\"><pre>LinearSVC(dual=False, max_iter=10000)</pre><b>In a Jupyter environment, please rerun this cell to show the HTML representation or trust the notebook. <br />On GitHub, the HTML representation is unable to render, please try loading this page with nbviewer.org.</b></div><div class=\"sk-container\" hidden><div class=\"sk-item\"><div class=\"sk-estimator sk-toggleable\"><input class=\"sk-toggleable__control sk-hidden--visually\" id=\"sk-estimator-id-4\" type=\"checkbox\" checked><label for=\"sk-estimator-id-4\" class=\"sk-toggleable__label sk-toggleable__label-arrow\">LinearSVC</label><div class=\"sk-toggleable__content\"><pre>LinearSVC(dual=False, max_iter=10000)</pre></div></div></div></div></div>"
      ],
      "text/plain": [
       "LinearSVC(dual=False, max_iter=10000)"
      ]
     },
     "execution_count": 94,
     "metadata": {},
     "output_type": "execute_result"
    }
   ],
   "source": [
    "clf = LinearSVC(dual = False, max_iter = 10000)\n",
    "clf.fit(X_train, y_train)"
   ]
  },
  {
   "cell_type": "code",
   "execution_count": 95,
   "id": "439a1267",
   "metadata": {},
   "outputs": [],
   "source": [
    "predicted_y = clf.predict(X_test)"
   ]
  },
  {
   "cell_type": "code",
   "execution_count": 96,
   "id": "7c117e22",
   "metadata": {},
   "outputs": [
    {
     "name": "stdout",
     "output_type": "stream",
     "text": [
      "              precision    recall  f1-score   support\n",
      "\n",
      "           0      0.714     0.665     0.688     19791\n",
      "           1      0.728     0.771     0.749     23017\n",
      "\n",
      "    accuracy                          0.722     42808\n",
      "   macro avg      0.721     0.718     0.719     42808\n",
      "weighted avg      0.721     0.722     0.721     42808\n",
      "\n"
     ]
    }
   ],
   "source": [
    "print(classification_report(y_test, predicted_y, digits=3))"
   ]
  },
  {
   "cell_type": "code",
   "execution_count": 97,
   "id": "01893917",
   "metadata": {},
   "outputs": [
    {
     "name": "stderr",
     "output_type": "stream",
     "text": [
      "C:\\Users\\Sajiah Naqib\\anaconda3\\envs\\adm\\lib\\site-packages\\sklearn\\utils\\deprecation.py:87: FutureWarning: Function plot_confusion_matrix is deprecated; Function `plot_confusion_matrix` is deprecated in 1.0 and will be removed in 1.2. Use one of the class methods: ConfusionMatrixDisplay.from_predictions or ConfusionMatrixDisplay.from_estimator.\n",
      "  warnings.warn(msg, category=FutureWarning)\n"
     ]
    },
    {
     "data": {
      "image/png": "[encoded data removed]",
      "text/plain": [
       "<Figure size 864x864 with 2 Axes>"
      ]
     },
     "metadata": {
      "needs_background": "light"
     },
     "output_type": "display_data"
    }
   ],
   "source": [
    "fig, ax = plt.subplots(figsize=(12, 12))\n",
    "plot_confusion_matrix(clf, X_test, y_test, ax=ax)\n",
    "plt.title('Confusion matrix of the Linear SVC classifier')\n",
    "plt.show()"
   ]
  },
  {
   "cell_type": "markdown",
   "id": "85525072",
   "metadata": {},
   "source": [
    "# Third Classification Algorithm is Logistic Regression"
   ]
  },
  {
   "cell_type": "code",
   "execution_count": 98,
   "id": "dd7c44de",
   "metadata": {},
   "outputs": [],
   "source": [
    "from sklearn.linear_model import LogisticRegression\n",
    "lr_model = LogisticRegression()"
   ]
  },
  {
   "cell_type": "code",
   "execution_count": 99,
   "id": "2bf2c3a8",
   "metadata": {},
   "outputs": [],
   "source": [
    "X_train, X_test, y_train, y_test = train_test_split(X_svm_lr, y_svm_lr, test_size=0.33, random_state=42)"
   ]
  },
  {
   "cell_type": "code",
   "execution_count": 100,
   "id": "842fc355",
   "metadata": {},
   "outputs": [
    {
     "name": "stderr",
     "output_type": "stream",
     "text": [
      "C:\\Users\\Sajiah Naqib\\anaconda3\\envs\\adm\\lib\\site-packages\\sklearn\\linear_model\\_logistic.py:444: ConvergenceWarning: lbfgs failed to converge (status=1):\n",
      "STOP: TOTAL NO. of ITERATIONS REACHED LIMIT.\n",
      "\n",
      "Increase the number of iterations (max_iter) or scale the data as shown in:\n",
      "    https://scikit-learn.org/stable/modules/preprocessing.html\n",
      "Please also refer to the documentation for alternative solver options:\n",
      "    https://scikit-learn.org/stable/modules/linear_model.html#logistic-regression\n",
      "  n_iter_i = _check_optimize_result(\n"
     ]
    }
   ],
   "source": [
    "lr_model.fit(X_train,\n",
    "              y_train)\n",
    "predictions_lr = lr_model.predict(X_test)"
   ]
  },
  {
   "cell_type": "code",
   "execution_count": 101,
   "id": "12b77a9b",
   "metadata": {},
   "outputs": [
    {
     "name": "stdout",
     "output_type": "stream",
     "text": [
      "              precision    recall  f1-score   support\n",
      "\n",
      "           0      0.645     0.490     0.557     19791\n",
      "           1      0.637     0.768     0.696     23017\n",
      "\n",
      "    accuracy                          0.640     42808\n",
      "   macro avg      0.641     0.629     0.627     42808\n",
      "weighted avg      0.640     0.640     0.632     42808\n",
      "\n"
     ]
    }
   ],
   "source": [
    "print(classification_report(y_test, predictions_lr, digits=3))"
   ]
  },
  {
   "cell_type": "code",
   "execution_count": 102,
   "id": "af4900a9",
   "metadata": {},
   "outputs": [
    {
     "name": "stderr",
     "output_type": "stream",
     "text": [
      "C:\\Users\\Sajiah Naqib\\anaconda3\\envs\\adm\\lib\\site-packages\\sklearn\\utils\\deprecation.py:87: FutureWarning: Function plot_confusion_matrix is deprecated; Function `plot_confusion_matrix` is deprecated in 1.0 and will be removed in 1.2. Use one of the class methods: ConfusionMatrixDisplay.from_predictions or ConfusionMatrixDisplay.from_estimator.\n",
      "  warnings.warn(msg, category=FutureWarning)\n"
     ]
    },
    {
     "data": {
      "image/png": "[encoded data removed]",
      "text/plain": [
       "<Figure size 864x864 with 2 Axes>"
      ]
     },
     "metadata": {
      "needs_background": "light"
     },
     "output_type": "display_data"
    }
   ],
   "source": [
    "fig, ax = plt.subplots(figsize=(12, 12))\n",
    "plot_confusion_matrix(lr_model, X_test, y_test, ax=ax)\n",
    "plt.title('Confusion matrix of the Logistic Regression classifier')\n",
    "plt.show()"
   ]
  },
  {
   "cell_type": "markdown",
   "id": "e1b8a511",
   "metadata": {},
   "source": [
    "# Fourth Classification Algorithm is Random Forest Classifier"
   ]
  },
  {
   "cell_type": "code",
   "execution_count": 103,
   "id": "9502be5d",
   "metadata": {},
   "outputs": [],
   "source": [
    "from sklearn.ensemble import RandomForestClassifier\n",
    "model_rfc = RandomForestClassifier(n_estimators = 500)"
   ]
  },
  {
   "cell_type": "code",
   "execution_count": 104,
   "id": "e6b9d204",
   "metadata": {},
   "outputs": [],
   "source": [
    "model_rfc.fit(X_train, y_train)\n",
    "predictions_rfc = model_rfc.predict(X_test)"
   ]
  },
  {
   "cell_type": "code",
   "execution_count": 105,
   "id": "46198550",
   "metadata": {},
   "outputs": [
    {
     "name": "stdout",
     "output_type": "stream",
     "text": [
      "              precision    recall  f1-score   support\n",
      "\n",
      "           0      0.837     0.829     0.833     19791\n",
      "           1      0.854     0.862     0.858     23017\n",
      "\n",
      "    accuracy                          0.847     42808\n",
      "   macro avg      0.846     0.845     0.846     42808\n",
      "weighted avg      0.847     0.847     0.847     42808\n",
      "\n"
     ]
    }
   ],
   "source": [
    "print(classification_report(y_test, predictions_rfc, digits=3))"
   ]
  },
  {
   "cell_type": "code",
   "execution_count": 106,
   "id": "49912ac3",
   "metadata": {},
   "outputs": [
    {
     "name": "stderr",
     "output_type": "stream",
     "text": [
      "C:\\Users\\Sajiah Naqib\\anaconda3\\envs\\adm\\lib\\site-packages\\sklearn\\utils\\deprecation.py:87: FutureWarning: Function plot_confusion_matrix is deprecated; Function `plot_confusion_matrix` is deprecated in 1.0 and will be removed in 1.2. Use one of the class methods: ConfusionMatrixDisplay.from_predictions or ConfusionMatrixDisplay.from_estimator.\n",
      "  warnings.warn(msg, category=FutureWarning)\n"
     ]
    },
    {
     "data": {
      "image/png": "[encoded data removed]",
      "text/plain": [
       "<Figure size 864x864 with 2 Axes>"
      ]
     },
     "metadata": {
      "needs_background": "light"
     },
     "output_type": "display_data"
    }
   ],
   "source": [
    "fig, ax = plt.subplots(figsize=(12, 12))\n",
    "plot_confusion_matrix(model_rfc, X_test, y_test, ax=ax)\n",
    "plt.title('Confusion matrix of the Random Forest classifier')\n",
    "plt.show()"
   ]
  },
  {
   "cell_type": "code",
   "execution_count": null,
   "id": "cbbecb17",
   "metadata": {},
   "outputs": [],
   "source": []
  }
 ],
 "metadata": {
  "kernelspec": {
   "display_name": "Python 3 (ipykernel)",
   "language": "python",
   "name": "python3"
  },
  "language_info": {
   "codemirror_mode": {
    "name": "ipython",
    "version": 3
   },
   "file_extension": ".py",
   "mimetype": "text/x-python",
   "name": "python",
   "nbconvert_exporter": "python",
   "pygments_lexer": "ipython3",
   "version": "3.8.13"
  }
 },
 "nbformat": 4,
 "nbformat_minor": 5
}
