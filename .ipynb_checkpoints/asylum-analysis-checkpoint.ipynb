{
 "cells": [
  {
   "cell_type": "code",
   "execution_count": 402,
   "id": "ec9e815c",
   "metadata": {},
   "outputs": [],
   "source": [
    "import pandas as pd\n",
    "import matplotlib.pyplot as plt\n",
    "import numpy as np"
   ]
  },
  {
   "cell_type": "markdown",
   "id": "6831375a",
   "metadata": {},
   "source": [
    "# Asylum Seeker dataset for EDA, Classification, Regression and Cluster Analysis"
   ]
  },
  {
   "cell_type": "code",
   "execution_count": 403,
   "id": "4cf43e15",
   "metadata": {},
   "outputs": [
    {
     "name": "stderr",
     "output_type": "stream",
     "text": [
      "C:\\Users\\Sajiah Naqib\\anaconda3\\envs\\adm\\lib\\site-packages\\IPython\\core\\interactiveshell.py:3369: DtypeWarning: Columns (4,5,6,7,8,9,10,11,12,13) have mixed types.Specify dtype option on import or set low_memory=False.\n",
      "  exec(code_obj, self.user_global_ns, self.user_ns)\n"
     ]
    }
   ],
   "source": [
    "asylum_seekers = pd.read_csv('data/asylum_seekers.csv')"
   ]
  },
  {
   "cell_type": "code",
   "execution_count": 404,
   "id": "885443d8",
   "metadata": {},
   "outputs": [
    {
     "data": {
      "text/html": [
       "<div>\n",
       "<style scoped>\n",
       "    .dataframe tbody tr th:only-of-type {\n",
       "        vertical-align: middle;\n",
       "    }\n",
       "\n",
       "    .dataframe tbody tr th {\n",
       "        vertical-align: top;\n",
       "    }\n",
       "\n",
       "    .dataframe thead th {\n",
       "        text-align: right;\n",
       "    }\n",
       "</style>\n",
       "<table border=\"1\" class=\"dataframe\">\n",
       "  <thead>\n",
       "    <tr style=\"text-align: right;\">\n",
       "      <th></th>\n",
       "      <th>Year</th>\n",
       "      <th>Country / territory of asylum/residence</th>\n",
       "      <th>Origin</th>\n",
       "      <th>RSD procedure type / level</th>\n",
       "      <th>Tota pending start-year</th>\n",
       "      <th>of which UNHCR-assisted(start-year)</th>\n",
       "      <th>Applied during year</th>\n",
       "      <th>decisions_recognized</th>\n",
       "      <th>decisions_other</th>\n",
       "      <th>Rejected</th>\n",
       "      <th>Otherwise closed</th>\n",
       "      <th>Total decisions</th>\n",
       "      <th>Total pending end-year</th>\n",
       "      <th>of which UNHCR-assisted(end-year)</th>\n",
       "    </tr>\n",
       "  </thead>\n",
       "  <tbody>\n",
       "    <tr>\n",
       "      <th>0</th>\n",
       "      <td>2000</td>\n",
       "      <td>Zimbabwe</td>\n",
       "      <td>Afghanistan</td>\n",
       "      <td>G / FI</td>\n",
       "      <td>0</td>\n",
       "      <td>0</td>\n",
       "      <td>5</td>\n",
       "      <td>5</td>\n",
       "      <td>0</td>\n",
       "      <td>0</td>\n",
       "      <td>0</td>\n",
       "      <td>5.0</td>\n",
       "      <td>0</td>\n",
       "      <td>0</td>\n",
       "    </tr>\n",
       "    <tr>\n",
       "      <th>1</th>\n",
       "      <td>2000</td>\n",
       "      <td>South Africa</td>\n",
       "      <td>Afghanistan</td>\n",
       "      <td>G / FI</td>\n",
       "      <td>8</td>\n",
       "      <td>1</td>\n",
       "      <td>0</td>\n",
       "      <td>0</td>\n",
       "      <td>0</td>\n",
       "      <td>0</td>\n",
       "      <td>0</td>\n",
       "      <td>NaN</td>\n",
       "      <td>8</td>\n",
       "      <td>0</td>\n",
       "    </tr>\n",
       "    <tr>\n",
       "      <th>2</th>\n",
       "      <td>2000</td>\n",
       "      <td>Uzbekistan</td>\n",
       "      <td>Afghanistan</td>\n",
       "      <td>U / FI</td>\n",
       "      <td>265</td>\n",
       "      <td>265</td>\n",
       "      <td>2156</td>\n",
       "      <td>747</td>\n",
       "      <td>0</td>\n",
       "      <td>112</td>\n",
       "      <td>327</td>\n",
       "      <td>1186.0</td>\n",
       "      <td>1235</td>\n",
       "      <td>1235</td>\n",
       "    </tr>\n",
       "    <tr>\n",
       "      <th>3</th>\n",
       "      <td>2000</td>\n",
       "      <td>United States of America</td>\n",
       "      <td>Afghanistan</td>\n",
       "      <td>G / EO</td>\n",
       "      <td>196</td>\n",
       "      <td>0</td>\n",
       "      <td>225</td>\n",
       "      <td>151</td>\n",
       "      <td>0</td>\n",
       "      <td>31</td>\n",
       "      <td>68</td>\n",
       "      <td>250.0</td>\n",
       "      <td>171</td>\n",
       "      <td>0</td>\n",
       "    </tr>\n",
       "    <tr>\n",
       "      <th>4</th>\n",
       "      <td>2000</td>\n",
       "      <td>United States of America</td>\n",
       "      <td>Afghanistan</td>\n",
       "      <td>G / IN</td>\n",
       "      <td>193</td>\n",
       "      <td>0</td>\n",
       "      <td>218</td>\n",
       "      <td>182</td>\n",
       "      <td>0</td>\n",
       "      <td>51</td>\n",
       "      <td>40</td>\n",
       "      <td>273.0</td>\n",
       "      <td>150</td>\n",
       "      <td>0</td>\n",
       "    </tr>\n",
       "  </tbody>\n",
       "</table>\n",
       "</div>"
      ],
      "text/plain": [
       "   Year Country / territory of asylum/residence       Origin  \\\n",
       "0  2000                                Zimbabwe  Afghanistan   \n",
       "1  2000                            South Africa  Afghanistan   \n",
       "2  2000                              Uzbekistan  Afghanistan   \n",
       "3  2000                United States of America  Afghanistan   \n",
       "4  2000                United States of America  Afghanistan   \n",
       "\n",
       "  RSD procedure type / level Tota pending start-year  \\\n",
       "0                     G / FI                       0   \n",
       "1                     G / FI                       8   \n",
       "2                     U / FI                     265   \n",
       "3                     G / EO                     196   \n",
       "4                     G / IN                     193   \n",
       "\n",
       "  of which UNHCR-assisted(start-year) Applied during year  \\\n",
       "0                                   0                   5   \n",
       "1                                   1                   0   \n",
       "2                                 265                2156   \n",
       "3                                   0                 225   \n",
       "4                                   0                 218   \n",
       "\n",
       "  decisions_recognized decisions_other Rejected Otherwise closed  \\\n",
       "0                    5               0        0                0   \n",
       "1                    0               0        0                0   \n",
       "2                  747               0      112              327   \n",
       "3                  151               0       31               68   \n",
       "4                  182               0       51               40   \n",
       "\n",
       "  Total decisions Total pending end-year of which UNHCR-assisted(end-year)  \n",
       "0             5.0                      0                                 0  \n",
       "1             NaN                      8                                 0  \n",
       "2          1186.0                   1235                              1235  \n",
       "3           250.0                    171                                 0  \n",
       "4           273.0                    150                                 0  "
      ]
     },
     "execution_count": 404,
     "metadata": {},
     "output_type": "execute_result"
    }
   ],
   "source": [
    "asylum_seekers.head()"
   ]
  },
  {
   "cell_type": "code",
   "execution_count": null,
   "id": "428d8f01",
   "metadata": {},
   "outputs": [],
   "source": []
  },
  {
   "cell_type": "code",
   "execution_count": null,
   "id": "9d34d23e",
   "metadata": {},
   "outputs": [],
   "source": []
  },
  {
   "cell_type": "markdown",
   "id": "1d891766",
   "metadata": {},
   "source": [
    "# Preprocessing"
   ]
  },
  {
   "cell_type": "markdown",
   "id": "b13d96a2",
   "metadata": {},
   "source": [
    "### 1. Renaming Columns"
   ]
  },
  {
   "cell_type": "code",
   "execution_count": 382,
   "id": "b1d8da9c",
   "metadata": {},
   "outputs": [],
   "source": [
    "asylum_seekers.columns = ['year', \n",
    "          'country_of_residence', \n",
    "          'country_of_origin', \n",
    "          'rsd_type', \n",
    "          'total_pending_at_year_start', \n",
    "          'total_pending_year_start_UNHCR_assisted', \n",
    "          'total_applied_during_year',\n",
    "          'decisions_recognized',\n",
    "          'decisions_other', \n",
    "          'total_rejected',\n",
    "          'decisions_closed',\n",
    "          'total_decisions',\n",
    "          'total_pending_at_year_end', \n",
    "          'total_pending_year_end_UNHCR_assisted']"
   ]
  },
  {
   "cell_type": "code",
   "execution_count": 383,
   "id": "b6dc8ffc",
   "metadata": {},
   "outputs": [],
   "source": [
    "asylum_seekers = asylum_seekers.drop(['decisions_other', 'total_decisions'], axis = 1)"
   ]
  },
  {
   "cell_type": "code",
   "execution_count": 384,
   "id": "ff614794",
   "metadata": {},
   "outputs": [
    {
     "name": "stdout",
     "output_type": "stream",
     "text": [
      "<class 'pandas.core.frame.DataFrame'>\n",
      "RangeIndex: 129720 entries, 0 to 129719\n",
      "Data columns (total 12 columns):\n",
      " #   Column                                   Non-Null Count   Dtype \n",
      "---  ------                                   --------------   ----- \n",
      " 0   year                                     129720 non-null  int64 \n",
      " 1   country_of_residence                     129720 non-null  object\n",
      " 2   country_of_origin                        129720 non-null  object\n",
      " 3   rsd_type                                 129719 non-null  object\n",
      " 4   total_pending_at_year_start              124578 non-null  object\n",
      " 5   total_pending_year_start_UNHCR_assisted  118962 non-null  object\n",
      " 6   total_applied_during_year                126222 non-null  object\n",
      " 7   decisions_recognized                     119886 non-null  object\n",
      " 8   total_rejected                           121615 non-null  object\n",
      " 9   decisions_closed                         120850 non-null  object\n",
      " 10  total_pending_at_year_end                125832 non-null  object\n",
      " 11  total_pending_year_end_UNHCR_assisted    121883 non-null  object\n",
      "dtypes: int64(1), object(11)\n",
      "memory usage: 11.9+ MB\n"
     ]
    }
   ],
   "source": [
    "asylum_seekers.info()"
   ]
  },
  {
   "cell_type": "markdown",
   "id": "a5ea4de7",
   "metadata": {},
   "source": [
    "### 2. Dealing with null values"
   ]
  },
  {
   "cell_type": "code",
   "execution_count": 385,
   "id": "b8388e31",
   "metadata": {},
   "outputs": [],
   "source": [
    "# Replace all '*' with ''\n",
    "asylum_seekers = asylum_seekers.replace(['*'], [0]) "
   ]
  },
  {
   "cell_type": "code",
   "execution_count": 386,
   "id": "bf026a5b",
   "metadata": {},
   "outputs": [
    {
     "data": {
      "text/plain": [
       "year                                           0\n",
       "country_of_residence                           0\n",
       "country_of_origin                              0\n",
       "rsd_type                                       1\n",
       "total_pending_at_year_start                 5142\n",
       "total_pending_year_start_UNHCR_assisted    10758\n",
       "total_applied_during_year                   3498\n",
       "decisions_recognized                        9834\n",
       "total_rejected                              8105\n",
       "decisions_closed                            8870\n",
       "total_pending_at_year_end                   3888\n",
       "total_pending_year_end_UNHCR_assisted       7837\n",
       "dtype: int64"
      ]
     },
     "execution_count": 386,
     "metadata": {},
     "output_type": "execute_result"
    }
   ],
   "source": [
    "asylum_seekers.isna().sum()"
   ]
  },
  {
   "cell_type": "code",
   "execution_count": 387,
   "id": "9b049776",
   "metadata": {},
   "outputs": [
    {
     "data": {
      "text/plain": [
       "0    G / FI\n",
       "dtype: object"
      ]
     },
     "execution_count": 387,
     "metadata": {},
     "output_type": "execute_result"
    }
   ],
   "source": [
    "mode_rsd = asylum_seekers['rsd_type'].mode()\n",
    "mode_rsd"
   ]
  },
  {
   "cell_type": "code",
   "execution_count": 388,
   "id": "1ca2707f",
   "metadata": {},
   "outputs": [],
   "source": [
    "# rsd : refugee status determination type\n",
    "asylum_seekers['rsd_type'] = asylum_seekers['rsd_type'].fillna(value = 'G / FI')"
   ]
  },
  {
   "cell_type": "code",
   "execution_count": 389,
   "id": "7fa9976c",
   "metadata": {},
   "outputs": [
    {
     "data": {
      "text/plain": [
       "array(['G / FI', 'U / FI', 'G / EO', 'G / IN', 'U / AR', 'G / AR',\n",
       "       'G / JR', 'G / FA', 'G / TR', 'G / BL', 'G / RA', 'G / NA',\n",
       "       'G / CA', 'U / FA', 'J / FI', 'G / fi', 'U / JR', 'G / ar',\n",
       "       'J / AR', 'U / RA', 'J / FA', 'G / SP', 'J / RA', 'G / TP',\n",
       "       'G / TA', 'U / NA'], dtype=object)"
      ]
     },
     "execution_count": 389,
     "metadata": {},
     "output_type": "execute_result"
    }
   ],
   "source": [
    "asylum_seekers['rsd_type'].unique()"
   ]
  },
  {
   "cell_type": "code",
   "execution_count": 390,
   "id": "8e57d82d",
   "metadata": {},
   "outputs": [
    {
     "data": {
      "text/plain": [
       "0         G / FI\n",
       "1         G / FI\n",
       "2         U / FI\n",
       "3         G / EO\n",
       "4         G / IN\n",
       "           ...  \n",
       "129715    G / IN\n",
       "129716    G / EO\n",
       "129717    G / AR\n",
       "129718    G / FI\n",
       "129719    G / FI\n",
       "Name: rsd_type, Length: 129720, dtype: object"
      ]
     },
     "execution_count": 390,
     "metadata": {},
     "output_type": "execute_result"
    }
   ],
   "source": [
    "asylum_seekers['rsd_type']"
   ]
  },
  {
   "cell_type": "code",
   "execution_count": 391,
   "id": "2ccb096c",
   "metadata": {},
   "outputs": [],
   "source": [
    "def fill_na_0(column_name):\n",
    "    asylum_seekers[column_name] = asylum_seekers[column_name].fillna(value = 0)"
   ]
  },
  {
   "cell_type": "code",
   "execution_count": 392,
   "id": "57d1ecc2",
   "metadata": {},
   "outputs": [],
   "source": [
    "fill_na_0('total_pending_at_year_start')\n",
    "fill_na_0('total_pending_year_start_UNHCR_assisted')\n",
    "fill_na_0('total_pending_at_year_end')\n",
    "fill_na_0('total_pending_year_end_UNHCR_assisted')\n",
    "fill_na_0('total_applied_during_year')\n",
    "fill_na_0('decisions_recognized')\n",
    "fill_na_0('total_rejected')\n",
    "fill_na_0('decisions_closed')"
   ]
  },
  {
   "cell_type": "code",
   "execution_count": 393,
   "id": "de69dd67",
   "metadata": {},
   "outputs": [
    {
     "data": {
      "text/plain": [
       "year                                       0\n",
       "country_of_residence                       0\n",
       "country_of_origin                          0\n",
       "rsd_type                                   0\n",
       "total_pending_at_year_start                0\n",
       "total_pending_year_start_UNHCR_assisted    0\n",
       "total_applied_during_year                  0\n",
       "decisions_recognized                       0\n",
       "total_rejected                             0\n",
       "decisions_closed                           0\n",
       "total_pending_at_year_end                  0\n",
       "total_pending_year_end_UNHCR_assisted      0\n",
       "dtype: int64"
      ]
     },
     "execution_count": 393,
     "metadata": {},
     "output_type": "execute_result"
    }
   ],
   "source": [
    "asylum_seekers.isna().sum()"
   ]
  },
  {
   "cell_type": "markdown",
   "id": "5e8a13ad",
   "metadata": {},
   "source": [
    "### 3. Changing data type and column values"
   ]
  },
  {
   "cell_type": "code",
   "execution_count": 394,
   "id": "1d4de5dd",
   "metadata": {},
   "outputs": [],
   "source": [
    "for col in ['total_pending_at_year_start', \\\n",
    "            'total_pending_year_start_UNHCR_assisted', \\\n",
    "            'total_applied_during_year', \\\n",
    "            'decisions_recognized', \\\n",
    "            'total_rejected', \\\n",
    "            'decisions_closed', \\\n",
    "            'total_pending_at_year_end', \\\n",
    "            'total_pending_year_end_UNHCR_assisted']:\n",
    "    asylum_seekers[col] = pd.to_numeric(asylum_seekers[col], errors='coerce')\n",
    "    asylum_seekers[col] = asylum_seekers[col].astype('float')"
   ]
  },
  {
   "cell_type": "code",
   "execution_count": 395,
   "id": "56a8263b",
   "metadata": {},
   "outputs": [],
   "source": [
    "asylum_seekers['rsd_type'] = [[x[:1], x[4:]] for x in asylum_seekers['rsd_type']]"
   ]
  },
  {
   "cell_type": "code",
   "execution_count": 396,
   "id": "26433467",
   "metadata": {},
   "outputs": [],
   "source": [
    "def change_country_names(column_name):\n",
    "    asylum_seekers[column_name] = asylum_seekers[column_name].replace(['United States of America'],['USA'])\n",
    "    asylum_seekers[column_name] = asylum_seekers[column_name].replace(['Syrian Arab Rep.'],['Syria'])\n",
    "    asylum_seekers[column_name] = asylum_seekers[column_name].replace(['Serbia and Kosovo (S/RES/1244 (1999))'],['Serbia/Kosovo'])\n",
    "    asylum_seekers[column_name] = asylum_seekers[column_name].replace(['Venezuela (Bolivarian Republic of)'],['Venezuela'])\n",
    "    asylum_seekers[column_name] = asylum_seekers[column_name].replace(['Iran (Islamic Rep. of)'],['Iran'])\n",
    "    asylum_seekers[column_name] = asylum_seekers[column_name].replace(['The former Yugoslav Republic of Macedonia', 'The former Yugoslav Rep. of Macedonia'],['Macedonia', 'Macedonia'])\n",
    "    asylum_seekers[column_name] = asylum_seekers[column_name].replace(['United Arab Emirates'],['UAE'])\n",
    "    asylum_seekers[column_name] = asylum_seekers[column_name].replace(['Dem. Rep. of the Congo'],['Congo'])\n",
    "    asylum_seekers[column_name] = asylum_seekers[column_name].replace(['Bolivia (Plurinational State of)'],['Bolivia'])\n",
    "    asylum_seekers[column_name] = asylum_seekers[column_name].replace(['United Kingdom', 'United Kingdom of Great Britain and Northern Ireland'],['UK', 'UK'])\n",
    "    asylum_seekers[column_name] = asylum_seekers[column_name].replace(['Micronesia (Federated States of)'],['Micronesia'])\n",
    "\n",
    "change_country_names('country_of_residence')\n",
    "change_country_names('country_of_origin')"
   ]
  },
  {
   "cell_type": "markdown",
   "id": "64e6d0ec",
   "metadata": {},
   "source": [
    "### 4. Combining features and creating feature"
   ]
  },
  {
   "cell_type": "code",
   "execution_count": 397,
   "id": "c27daa32",
   "metadata": {},
   "outputs": [],
   "source": [
    "asylum_seekers['total_pending_year_start'] = asylum_seekers['total_pending_at_year_start'] + asylum_seekers['total_pending_year_start_UNHCR_assisted']"
   ]
  },
  {
   "cell_type": "code",
   "execution_count": 398,
   "id": "962b83d1",
   "metadata": {},
   "outputs": [],
   "source": [
    "asylum_seekers['total_pending_year_end'] = asylum_seekers['total_pending_at_year_end'] + asylum_seekers['total_pending_year_end_UNHCR_assisted']"
   ]
  },
  {
   "cell_type": "code",
   "execution_count": 399,
   "id": "7ae501a7",
   "metadata": {},
   "outputs": [],
   "source": [
    "asylum_seekers = asylum_seekers.drop(['total_pending_at_year_start', 'total_pending_at_year_end',\n",
    "                                      'total_pending_year_end_UNHCR_assisted', 'total_pending_year_start_UNHCR_assisted'],\n",
    "                                    axis = 1)"
   ]
  },
  {
   "cell_type": "code",
   "execution_count": 400,
   "id": "5b03c11e",
   "metadata": {},
   "outputs": [],
   "source": [
    "def check_rejected(x):\n",
    "    if x == 0:\n",
    "        return 'N'\n",
    "    else:\n",
    "        return 'Y'\n",
    "\n",
    "asylum_seekers['Rejected(Y/N)'] =  asylum_seekers['total_rejected'].apply(check_rejected)"
   ]
  },
  {
   "cell_type": "code",
   "execution_count": 401,
   "id": "059b17fb",
   "metadata": {},
   "outputs": [
    {
     "data": {
      "text/html": [
       "<div>\n",
       "<style scoped>\n",
       "    .dataframe tbody tr th:only-of-type {\n",
       "        vertical-align: middle;\n",
       "    }\n",
       "\n",
       "    .dataframe tbody tr th {\n",
       "        vertical-align: top;\n",
       "    }\n",
       "\n",
       "    .dataframe thead th {\n",
       "        text-align: right;\n",
       "    }\n",
       "</style>\n",
       "<table border=\"1\" class=\"dataframe\">\n",
       "  <thead>\n",
       "    <tr style=\"text-align: right;\">\n",
       "      <th></th>\n",
       "      <th>year</th>\n",
       "      <th>country_of_residence</th>\n",
       "      <th>country_of_origin</th>\n",
       "      <th>rsd_type</th>\n",
       "      <th>total_applied_during_year</th>\n",
       "      <th>decisions_recognized</th>\n",
       "      <th>total_rejected</th>\n",
       "      <th>decisions_closed</th>\n",
       "      <th>total_pending_year_start</th>\n",
       "      <th>total_pending_year_end</th>\n",
       "      <th>Rejected(Y/N)</th>\n",
       "    </tr>\n",
       "  </thead>\n",
       "  <tbody>\n",
       "    <tr>\n",
       "      <th>0</th>\n",
       "      <td>2000</td>\n",
       "      <td>Zimbabwe</td>\n",
       "      <td>Afghanistan</td>\n",
       "      <td>[G, FI]</td>\n",
       "      <td>5.0</td>\n",
       "      <td>5.0</td>\n",
       "      <td>0.0</td>\n",
       "      <td>0.0</td>\n",
       "      <td>0.0</td>\n",
       "      <td>0.0</td>\n",
       "      <td>N</td>\n",
       "    </tr>\n",
       "    <tr>\n",
       "      <th>1</th>\n",
       "      <td>2000</td>\n",
       "      <td>South Africa</td>\n",
       "      <td>Afghanistan</td>\n",
       "      <td>[G, FI]</td>\n",
       "      <td>0.0</td>\n",
       "      <td>0.0</td>\n",
       "      <td>0.0</td>\n",
       "      <td>0.0</td>\n",
       "      <td>9.0</td>\n",
       "      <td>8.0</td>\n",
       "      <td>N</td>\n",
       "    </tr>\n",
       "    <tr>\n",
       "      <th>2</th>\n",
       "      <td>2000</td>\n",
       "      <td>Uzbekistan</td>\n",
       "      <td>Afghanistan</td>\n",
       "      <td>[U, FI]</td>\n",
       "      <td>2156.0</td>\n",
       "      <td>747.0</td>\n",
       "      <td>112.0</td>\n",
       "      <td>327.0</td>\n",
       "      <td>530.0</td>\n",
       "      <td>2470.0</td>\n",
       "      <td>Y</td>\n",
       "    </tr>\n",
       "    <tr>\n",
       "      <th>3</th>\n",
       "      <td>2000</td>\n",
       "      <td>USA</td>\n",
       "      <td>Afghanistan</td>\n",
       "      <td>[G, EO]</td>\n",
       "      <td>225.0</td>\n",
       "      <td>151.0</td>\n",
       "      <td>31.0</td>\n",
       "      <td>68.0</td>\n",
       "      <td>196.0</td>\n",
       "      <td>171.0</td>\n",
       "      <td>Y</td>\n",
       "    </tr>\n",
       "    <tr>\n",
       "      <th>4</th>\n",
       "      <td>2000</td>\n",
       "      <td>USA</td>\n",
       "      <td>Afghanistan</td>\n",
       "      <td>[G, IN]</td>\n",
       "      <td>218.0</td>\n",
       "      <td>182.0</td>\n",
       "      <td>51.0</td>\n",
       "      <td>40.0</td>\n",
       "      <td>193.0</td>\n",
       "      <td>150.0</td>\n",
       "      <td>Y</td>\n",
       "    </tr>\n",
       "  </tbody>\n",
       "</table>\n",
       "</div>"
      ],
      "text/plain": [
       "   year country_of_residence country_of_origin rsd_type  \\\n",
       "0  2000             Zimbabwe       Afghanistan  [G, FI]   \n",
       "1  2000         South Africa       Afghanistan  [G, FI]   \n",
       "2  2000           Uzbekistan       Afghanistan  [U, FI]   \n",
       "3  2000                  USA       Afghanistan  [G, EO]   \n",
       "4  2000                  USA       Afghanistan  [G, IN]   \n",
       "\n",
       "   total_applied_during_year  decisions_recognized  total_rejected  \\\n",
       "0                        5.0                   5.0             0.0   \n",
       "1                        0.0                   0.0             0.0   \n",
       "2                     2156.0                 747.0           112.0   \n",
       "3                      225.0                 151.0            31.0   \n",
       "4                      218.0                 182.0            51.0   \n",
       "\n",
       "   decisions_closed  total_pending_year_start  total_pending_year_end  \\\n",
       "0               0.0                       0.0                     0.0   \n",
       "1               0.0                       9.0                     8.0   \n",
       "2             327.0                     530.0                  2470.0   \n",
       "3              68.0                     196.0                   171.0   \n",
       "4              40.0                     193.0                   150.0   \n",
       "\n",
       "  Rejected(Y/N)  \n",
       "0             N  \n",
       "1             N  \n",
       "2             Y  \n",
       "3             Y  \n",
       "4             Y  "
      ]
     },
     "execution_count": 401,
     "metadata": {},
     "output_type": "execute_result"
    }
   ],
   "source": [
    "asylum_seekers.head()"
   ]
  },
  {
   "cell_type": "markdown",
   "id": "2f1d94ff",
   "metadata": {},
   "source": [
    "# Datasets for EDA"
   ]
  },
  {
   "cell_type": "code",
   "execution_count": 365,
   "id": "b5adea0a",
   "metadata": {},
   "outputs": [
    {
     "name": "stderr",
     "output_type": "stream",
     "text": [
      "C:\\Users\\Sajiah Naqib\\anaconda3\\envs\\adm\\lib\\site-packages\\IPython\\core\\interactiveshell.py:3369: DtypeWarning: Columns (4) have mixed types.Specify dtype option on import or set low_memory=False.\n",
      "  exec(code_obj, self.user_global_ns, self.user_ns)\n"
     ]
    },
    {
     "data": {
      "text/html": [
       "<div>\n",
       "<style scoped>\n",
       "    .dataframe tbody tr th:only-of-type {\n",
       "        vertical-align: middle;\n",
       "    }\n",
       "\n",
       "    .dataframe tbody tr th {\n",
       "        vertical-align: top;\n",
       "    }\n",
       "\n",
       "    .dataframe thead th {\n",
       "        text-align: right;\n",
       "    }\n",
       "</style>\n",
       "<table border=\"1\" class=\"dataframe\">\n",
       "  <thead>\n",
       "    <tr style=\"text-align: right;\">\n",
       "      <th></th>\n",
       "      <th>Country / territory of asylum/residence</th>\n",
       "      <th>Origin</th>\n",
       "      <th>Year</th>\n",
       "      <th>Month</th>\n",
       "      <th>Value</th>\n",
       "    </tr>\n",
       "  </thead>\n",
       "  <tbody>\n",
       "    <tr>\n",
       "      <th>0</th>\n",
       "      <td>Australia</td>\n",
       "      <td>Afghanistan</td>\n",
       "      <td>1999</td>\n",
       "      <td>January</td>\n",
       "      <td>8</td>\n",
       "    </tr>\n",
       "    <tr>\n",
       "      <th>1</th>\n",
       "      <td>Australia</td>\n",
       "      <td>Afghanistan</td>\n",
       "      <td>1999</td>\n",
       "      <td>February</td>\n",
       "      <td>10</td>\n",
       "    </tr>\n",
       "    <tr>\n",
       "      <th>2</th>\n",
       "      <td>Australia</td>\n",
       "      <td>Afghanistan</td>\n",
       "      <td>1999</td>\n",
       "      <td>March</td>\n",
       "      <td>25</td>\n",
       "    </tr>\n",
       "    <tr>\n",
       "      <th>3</th>\n",
       "      <td>Australia</td>\n",
       "      <td>Afghanistan</td>\n",
       "      <td>1999</td>\n",
       "      <td>April</td>\n",
       "      <td>25</td>\n",
       "    </tr>\n",
       "    <tr>\n",
       "      <th>4</th>\n",
       "      <td>Australia</td>\n",
       "      <td>Afghanistan</td>\n",
       "      <td>1999</td>\n",
       "      <td>May</td>\n",
       "      <td>7</td>\n",
       "    </tr>\n",
       "  </tbody>\n",
       "</table>\n",
       "</div>"
      ],
      "text/plain": [
       "  Country / territory of asylum/residence       Origin  Year     Month Value\n",
       "0                               Australia  Afghanistan  1999   January     8\n",
       "1                               Australia  Afghanistan  1999  February    10\n",
       "2                               Australia  Afghanistan  1999     March    25\n",
       "3                               Australia  Afghanistan  1999     April    25\n",
       "4                               Australia  Afghanistan  1999       May     7"
      ]
     },
     "execution_count": 365,
     "metadata": {},
     "output_type": "execute_result"
    }
   ],
   "source": [
    "asylum_seekers_monthly = pd.read_csv('data/asylum_seekers_monthly.csv')\n",
    "asylum_seekers_monthly.head()"
   ]
  },
  {
   "cell_type": "code",
   "execution_count": 366,
   "id": "0c959b30",
   "metadata": {},
   "outputs": [],
   "source": [
    "asylum_seekers_monthly.columns = [ 'country_of_residence', \n",
    "          'country_of_origin', \n",
    "          'year_applied', \n",
    "          'month_applied', \n",
    "          'total_asylum_seekers']"
   ]
  },
  {
   "cell_type": "code",
   "execution_count": 367,
   "id": "35dbcc57",
   "metadata": {},
   "outputs": [
    {
     "data": {
      "text/plain": [
       "country_of_residence    0\n",
       "country_of_origin       0\n",
       "year_applied            0\n",
       "month_applied           0\n",
       "total_asylum_seekers    0\n",
       "dtype: int64"
      ]
     },
     "execution_count": 367,
     "metadata": {},
     "output_type": "execute_result"
    }
   ],
   "source": [
    "asylum_seekers_monthly.isna().sum()"
   ]
  },
  {
   "cell_type": "code",
   "execution_count": 371,
   "id": "2cc0eca1",
   "metadata": {},
   "outputs": [],
   "source": [
    "def change_country_names_2(column_name):\n",
    "    asylum_seekers_monthly[column_name] = asylum_seekers_monthly[column_name].replace(['USA (INS/DHS)'],['USA'])\n",
    "    asylum_seekers_monthly[column_name] = asylum_seekers_monthly[column_name].replace(['United States of America'],['USA'])\n",
    "    asylum_seekers_monthly[column_name] = asylum_seekers_monthly[column_name].replace(['USA (EOIR)'],['USA'])\n",
    "    asylum_seekers_monthly[column_name] = asylum_seekers_monthly[column_name].replace(['Syrian Arab Rep.'],['Syria'])\n",
    "    asylum_seekers_monthly[column_name] = asylum_seekers_monthly[column_name].replace(['Serbia and Kosovo: S/RES/1244 (1999)'],['Serbia/Kosovo'])\n",
    "    asylum_seekers_monthly[column_name] = asylum_seekers_monthly[column_name].replace(['Venezuela (Bolivarian Republic of)'],['Venezuela'])\n",
    "    asylum_seekers_monthly[column_name] = asylum_seekers_monthly[column_name].replace(['Iran (Islamic Rep. of)'],['Iran'])\n",
    "    asylum_seekers_monthly[column_name] = asylum_seekers_monthly[column_name].replace(['The former Yugoslav Rep. of Macedonia'],['Macedonia'])\n",
    "    asylum_seekers_monthly[column_name] = asylum_seekers_monthly[column_name].replace(['United Arab Emirates'],['UAE'])\n",
    "    asylum_seekers_monthly[column_name] = asylum_seekers_monthly[column_name].replace(['Dem. Rep. of the Congo'],['Congo'])\n",
    "    asylum_seekers_monthly[column_name] = asylum_seekers_monthly[column_name].replace(['Bolivia (Plurinational State of)'],['Bolivia'])\n",
    "    asylum_seekers_monthly[column_name] = asylum_seekers_monthly[column_name].replace(['United Kingdom of Great Britain and Northern Ireland'],['UK'])\n",
    "    asylum_seekers_monthly[column_name] = asylum_seekers_monthly[column_name].replace(['Micronesia (Federated States of)'],['Micronesia'])\n",
    "change_country_names_2('country_of_residence')\n",
    "change_country_names_2('country_of_origin')"
   ]
  },
  {
   "cell_type": "code",
   "execution_count": 376,
   "id": "40aaa050",
   "metadata": {},
   "outputs": [
    {
     "data": {
      "text/html": [
       "<div>\n",
       "<style scoped>\n",
       "    .dataframe tbody tr th:only-of-type {\n",
       "        vertical-align: middle;\n",
       "    }\n",
       "\n",
       "    .dataframe tbody tr th {\n",
       "        vertical-align: top;\n",
       "    }\n",
       "\n",
       "    .dataframe thead th {\n",
       "        text-align: right;\n",
       "    }\n",
       "</style>\n",
       "<table border=\"1\" class=\"dataframe\">\n",
       "  <thead>\n",
       "    <tr style=\"text-align: right;\">\n",
       "      <th></th>\n",
       "      <th>country_of_residence</th>\n",
       "      <th>country_of_origin</th>\n",
       "      <th>year_applied</th>\n",
       "      <th>month_applied</th>\n",
       "      <th>total_asylum_seekers</th>\n",
       "    </tr>\n",
       "  </thead>\n",
       "  <tbody>\n",
       "    <tr>\n",
       "      <th>332184</th>\n",
       "      <td>USA</td>\n",
       "      <td>Zimbabwe</td>\n",
       "      <td>2016</td>\n",
       "      <td>December</td>\n",
       "      <td>28</td>\n",
       "    </tr>\n",
       "    <tr>\n",
       "      <th>332185</th>\n",
       "      <td>USA</td>\n",
       "      <td>Zimbabwe</td>\n",
       "      <td>2017</td>\n",
       "      <td>February</td>\n",
       "      <td>27</td>\n",
       "    </tr>\n",
       "    <tr>\n",
       "      <th>332186</th>\n",
       "      <td>USA</td>\n",
       "      <td>Zimbabwe</td>\n",
       "      <td>2017</td>\n",
       "      <td>March</td>\n",
       "      <td>42</td>\n",
       "    </tr>\n",
       "    <tr>\n",
       "      <th>332187</th>\n",
       "      <td>USA</td>\n",
       "      <td>Zimbabwe</td>\n",
       "      <td>2017</td>\n",
       "      <td>April</td>\n",
       "      <td>16</td>\n",
       "    </tr>\n",
       "    <tr>\n",
       "      <th>332188</th>\n",
       "      <td>USA</td>\n",
       "      <td>Zimbabwe</td>\n",
       "      <td>2017</td>\n",
       "      <td>May</td>\n",
       "      <td>12</td>\n",
       "    </tr>\n",
       "  </tbody>\n",
       "</table>\n",
       "</div>"
      ],
      "text/plain": [
       "       country_of_residence country_of_origin  year_applied month_applied  \\\n",
       "332184                  USA          Zimbabwe          2016      December   \n",
       "332185                  USA          Zimbabwe          2017      February   \n",
       "332186                  USA          Zimbabwe          2017         March   \n",
       "332187                  USA          Zimbabwe          2017         April   \n",
       "332188                  USA          Zimbabwe          2017           May   \n",
       "\n",
       "       total_asylum_seekers  \n",
       "332184                   28  \n",
       "332185                   27  \n",
       "332186                   42  \n",
       "332187                   16  \n",
       "332188                   12  "
      ]
     },
     "execution_count": 376,
     "metadata": {},
     "output_type": "execute_result"
    }
   ],
   "source": [
    "asylum_seekers_monthly.tail()"
   ]
  },
  {
   "cell_type": "code",
   "execution_count": 10,
   "id": "50b14aeb",
   "metadata": {},
   "outputs": [
    {
     "data": {
      "text/html": [
       "<div>\n",
       "<style scoped>\n",
       "    .dataframe tbody tr th:only-of-type {\n",
       "        vertical-align: middle;\n",
       "    }\n",
       "\n",
       "    .dataframe tbody tr th {\n",
       "        vertical-align: top;\n",
       "    }\n",
       "\n",
       "    .dataframe thead th {\n",
       "        text-align: right;\n",
       "    }\n",
       "</style>\n",
       "<table border=\"1\" class=\"dataframe\">\n",
       "  <thead>\n",
       "    <tr style=\"text-align: right;\">\n",
       "      <th></th>\n",
       "      <th>Year</th>\n",
       "      <th>Country / territory of asylum/residence</th>\n",
       "      <th>Location Name</th>\n",
       "      <th>Female 0-4</th>\n",
       "      <th>Female 5-11</th>\n",
       "      <th>Female 5-17</th>\n",
       "      <th>Female 12-17</th>\n",
       "      <th>Female 18-59</th>\n",
       "      <th>Female 60+</th>\n",
       "      <th>F: Unknown</th>\n",
       "      <th>F: Total</th>\n",
       "      <th>Male 0-4</th>\n",
       "      <th>Male 5-11</th>\n",
       "      <th>Male 5-17</th>\n",
       "      <th>Male 12-17</th>\n",
       "      <th>Male 18-59</th>\n",
       "      <th>Male 60+</th>\n",
       "      <th>M: Unknown</th>\n",
       "      <th>M: Total</th>\n",
       "    </tr>\n",
       "  </thead>\n",
       "  <tbody>\n",
       "    <tr>\n",
       "      <th>0</th>\n",
       "      <td>2001</td>\n",
       "      <td>Afghanistan</td>\n",
       "      <td>Kabul</td>\n",
       "      <td>0</td>\n",
       "      <td>NaN</td>\n",
       "      <td>1.0</td>\n",
       "      <td>NaN</td>\n",
       "      <td>1</td>\n",
       "      <td>0</td>\n",
       "      <td>0.0</td>\n",
       "      <td>2</td>\n",
       "      <td>0</td>\n",
       "      <td>NaN</td>\n",
       "      <td>0.0</td>\n",
       "      <td>NaN</td>\n",
       "      <td>2</td>\n",
       "      <td>0</td>\n",
       "      <td>0.0</td>\n",
       "      <td>2</td>\n",
       "    </tr>\n",
       "    <tr>\n",
       "      <th>1</th>\n",
       "      <td>2001</td>\n",
       "      <td>Afghanistan</td>\n",
       "      <td>Various</td>\n",
       "      <td>14335</td>\n",
       "      <td>NaN</td>\n",
       "      <td>45451.0</td>\n",
       "      <td>NaN</td>\n",
       "      <td>99880</td>\n",
       "      <td>19234</td>\n",
       "      <td>412004.0</td>\n",
       "      <td>590904</td>\n",
       "      <td>14716</td>\n",
       "      <td>NaN</td>\n",
       "      <td>47522.0</td>\n",
       "      <td>NaN</td>\n",
       "      <td>114965</td>\n",
       "      <td>13025</td>\n",
       "      <td>435492.0</td>\n",
       "      <td>625720</td>\n",
       "    </tr>\n",
       "    <tr>\n",
       "      <th>2</th>\n",
       "      <td>2001</td>\n",
       "      <td>Afghanistan</td>\n",
       "      <td>Herat</td>\n",
       "      <td>0</td>\n",
       "      <td>NaN</td>\n",
       "      <td>0.0</td>\n",
       "      <td>NaN</td>\n",
       "      <td>1</td>\n",
       "      <td>0</td>\n",
       "      <td>0.0</td>\n",
       "      <td>1</td>\n",
       "      <td>0</td>\n",
       "      <td>NaN</td>\n",
       "      <td>0.0</td>\n",
       "      <td>NaN</td>\n",
       "      <td>1</td>\n",
       "      <td>0</td>\n",
       "      <td>0.0</td>\n",
       "      <td>1</td>\n",
       "    </tr>\n",
       "    <tr>\n",
       "      <th>3</th>\n",
       "      <td>2001</td>\n",
       "      <td>Angola</td>\n",
       "      <td>Viana</td>\n",
       "      <td>484</td>\n",
       "      <td>NaN</td>\n",
       "      <td>1687.0</td>\n",
       "      <td>NaN</td>\n",
       "      <td>1282</td>\n",
       "      <td>43</td>\n",
       "      <td>0.0</td>\n",
       "      <td>3496</td>\n",
       "      <td>597</td>\n",
       "      <td>NaN</td>\n",
       "      <td>1645.0</td>\n",
       "      <td>NaN</td>\n",
       "      <td>787</td>\n",
       "      <td>34</td>\n",
       "      <td>0.0</td>\n",
       "      <td>3063</td>\n",
       "    </tr>\n",
       "    <tr>\n",
       "      <th>4</th>\n",
       "      <td>2001</td>\n",
       "      <td>Angola</td>\n",
       "      <td>Moxico</td>\n",
       "      <td>219</td>\n",
       "      <td>NaN</td>\n",
       "      <td>734.0</td>\n",
       "      <td>NaN</td>\n",
       "      <td>427</td>\n",
       "      <td>25</td>\n",
       "      <td>0.0</td>\n",
       "      <td>1405</td>\n",
       "      <td>226</td>\n",
       "      <td>NaN</td>\n",
       "      <td>711.0</td>\n",
       "      <td>NaN</td>\n",
       "      <td>139</td>\n",
       "      <td>15</td>\n",
       "      <td>0.0</td>\n",
       "      <td>1091</td>\n",
       "    </tr>\n",
       "  </tbody>\n",
       "</table>\n",
       "</div>"
      ],
      "text/plain": [
       "   Year Country / territory of asylum/residence Location Name Female 0-4  \\\n",
       "0  2001                             Afghanistan         Kabul          0   \n",
       "1  2001                             Afghanistan       Various      14335   \n",
       "2  2001                             Afghanistan         Herat          0   \n",
       "3  2001                                  Angola         Viana        484   \n",
       "4  2001                                  Angola        Moxico        219   \n",
       "\n",
       "  Female 5-11  Female 5-17 Female 12-17 Female 18-59 Female 60+  F: Unknown  \\\n",
       "0         NaN          1.0          NaN            1          0         0.0   \n",
       "1         NaN      45451.0          NaN        99880      19234    412004.0   \n",
       "2         NaN          0.0          NaN            1          0         0.0   \n",
       "3         NaN       1687.0          NaN         1282         43         0.0   \n",
       "4         NaN        734.0          NaN          427         25         0.0   \n",
       "\n",
       "  F: Total Male 0-4 Male 5-11  Male 5-17 Male 12-17 Male 18-59 Male 60+  \\\n",
       "0        2        0       NaN        0.0        NaN          2        0   \n",
       "1   590904    14716       NaN    47522.0        NaN     114965    13025   \n",
       "2        1        0       NaN        0.0        NaN          1        0   \n",
       "3     3496      597       NaN     1645.0        NaN        787       34   \n",
       "4     1405      226       NaN      711.0        NaN        139       15   \n",
       "\n",
       "   M: Unknown M: Total  \n",
       "0         0.0        2  \n",
       "1    435492.0   625720  \n",
       "2         0.0        1  \n",
       "3         0.0     3063  \n",
       "4         0.0     1091  "
      ]
     },
     "execution_count": 10,
     "metadata": {},
     "output_type": "execute_result"
    }
   ],
   "source": [
    "demographics = pd.read_csv('data/demographics.csv')\n",
    "demographics.head()"
   ]
  },
  {
   "cell_type": "code",
   "execution_count": null,
   "id": "24f9400d",
   "metadata": {},
   "outputs": [],
   "source": []
  }
 ],
 "metadata": {
  "kernelspec": {
   "display_name": "Python 3 (ipykernel)",
   "language": "python",
   "name": "python3"
  },
  "language_info": {
   "codemirror_mode": {
    "name": "ipython",
    "version": 3
   },
   "file_extension": ".py",
   "mimetype": "text/x-python",
   "name": "python",
   "nbconvert_exporter": "python",
   "pygments_lexer": "ipython3",
   "version": "3.8.13"
  }
 },
 "nbformat": 4,
 "nbformat_minor": 5
}
